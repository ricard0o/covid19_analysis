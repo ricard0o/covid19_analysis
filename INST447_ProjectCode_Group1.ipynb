{
 "cells": [
  {
   "cell_type": "markdown",
   "metadata": {
    "id": "t_-Zf4cYhdUl"
   },
   "source": [
    "# Author: Ricardo Hernandez \n",
    "\n",
    "\n",
    "---\n",
    "\n",
    "\n",
    "### Contributors: Rhon Ramos, Huy Nguyen, Anuj Shahi"
   ]
  },
  {
   "cell_type": "markdown",
   "metadata": {
    "id": "WEMjlfpqYs8n"
   },
   "source": [
    "# Project Summary\n",
    "##### Our goal with this project is to explore what exactly are the economic effects of the COVID-19 Pandemic, specifically how it affected the unemployment rate, Aviation, Stock Market, Wealth Inequality, and Wealth Distribution. In our analysis, we will be focusing on the ***United States.***\n",
    "\n",
    "**The reason we are investigating these indicators is because each one tells a story about the wellbeing of the economy. We understand that there are possibly more indicators but for the sake of this project,  will only focus on the unemployment rate, Aviation,Stock Market, Wealth Inequality, Wealth Distribution, GDP.**"
   ]
  },
  {
   "cell_type": "markdown",
   "metadata": {
    "id": "4vo-qF94Yt_3"
   },
   "source": [
    "# Data\n",
    "##### All datasets are from kaggle. "
   ]
  },
  {
   "cell_type": "markdown",
   "metadata": {
    "id": "ObP1cTQlahd5"
   },
   "source": [
    "# Research Question?\n",
    "##### How has the Covid-19 pandemic affected the US economy?\n",
    "\n",
    "## In the following analysis, we will be looking at key indicators in the United States to determined whether the pandemic has had any impact on the country's performance. \n"
   ]
  },
  {
   "cell_type": "code",
   "execution_count": 1,
   "metadata": {
    "id": "slQsPWOIumQm"
   },
   "outputs": [],
   "source": [
    "# all necessary imports\n",
    "import pandas as pd\n",
    "import numpy as np\n",
    "import re\n",
    "import requests\n",
    "\n",
    "\n",
    "\n",
    "import io\n",
    "import matplotlib.pyplot as plt\n",
    "%matplotlib inline"
   ]
  },
  {
   "cell_type": "markdown",
   "metadata": {
    "id": "A_cS67RRYuNM"
   },
   "source": [
    "# Data Cleaning\n",
    "For the most part, OpenRefine was used to clean every dataset.\n",
    " "
   ]
  },
  {
   "cell_type": "markdown",
   "metadata": {
    "id": "SXu30l3QQWRl"
   },
   "source": [
    "# Exploratory Data Analysis\n"
   ]
  },
  {
   "cell_type": "markdown",
   "metadata": {
    "id": "kUVojJI4Ay3F"
   },
   "source": [
    "## Unemployment Rate"
   ]
  },
  {
   "cell_type": "code",
   "execution_count": 2,
   "metadata": {
    "id": "68fhrSkYaOyz"
   },
   "outputs": [],
   "source": [
    "# This datatset contains the monthly unemploymeny rate estimates for the 2020 till march of 2021\n",
    "unemployment = pd.read_csv(\"unemployment_2020.csv\")\n",
    " #Source: Labour: Labour market statistics\n",
    " #https://data.oecd.org/unemp/unemployment-rate.htm\n",
    "\n",
    "aviation = pd.read_csv(\"commercial_flights_totals.csv\",encoding='utf-8')\n",
    "\n",
    "\n",
    "import datetime\n",
    "import time\n",
    "import matplotlib.pyplot as plt\n",
    "import matplotlib.dates as mdates\n",
    "%matplotlib inline"
   ]
  },
  {
   "cell_type": "markdown",
   "metadata": {
    "id": "-q3yOXFEWfj7"
   },
   "source": [
    "First, we will be looking at the impact Of Covid-19 on the unemployment rate. The goal is to find a correlation between the pandemic and the unemployment rate"
   ]
  },
  {
   "cell_type": "code",
   "execution_count": 3,
   "metadata": {
    "id": "DrKWG3aYLelp"
   },
   "outputs": [
    {
     "data": {
      "text/html": [
       "<div>\n",
       "<style scoped>\n",
       "    .dataframe tbody tr th:only-of-type {\n",
       "        vertical-align: middle;\n",
       "    }\n",
       "\n",
       "    .dataframe tbody tr th {\n",
       "        vertical-align: top;\n",
       "    }\n",
       "\n",
       "    .dataframe thead th {\n",
       "        text-align: right;\n",
       "    }\n",
       "</style>\n",
       "<table border=\"1\" class=\"dataframe\">\n",
       "  <thead>\n",
       "    <tr style=\"text-align: right;\">\n",
       "      <th></th>\n",
       "      <th>LOCATION</th>\n",
       "      <th>INDICATOR</th>\n",
       "      <th>SUBJECT</th>\n",
       "      <th>MEASURE</th>\n",
       "      <th>FREQUENCY</th>\n",
       "      <th>TIME</th>\n",
       "      <th>Value</th>\n",
       "      <th>Flag Codes</th>\n",
       "    </tr>\n",
       "  </thead>\n",
       "  <tbody>\n",
       "    <tr>\n",
       "      <th>0</th>\n",
       "      <td>USA</td>\n",
       "      <td>HUR</td>\n",
       "      <td>TOT</td>\n",
       "      <td>PC_LF</td>\n",
       "      <td>M</td>\n",
       "      <td>2020-01</td>\n",
       "      <td>3.5</td>\n",
       "      <td>NaN</td>\n",
       "    </tr>\n",
       "    <tr>\n",
       "      <th>1</th>\n",
       "      <td>USA</td>\n",
       "      <td>HUR</td>\n",
       "      <td>TOT</td>\n",
       "      <td>PC_LF</td>\n",
       "      <td>M</td>\n",
       "      <td>2020-02</td>\n",
       "      <td>3.5</td>\n",
       "      <td>NaN</td>\n",
       "    </tr>\n",
       "    <tr>\n",
       "      <th>2</th>\n",
       "      <td>USA</td>\n",
       "      <td>HUR</td>\n",
       "      <td>TOT</td>\n",
       "      <td>PC_LF</td>\n",
       "      <td>M</td>\n",
       "      <td>2020-03</td>\n",
       "      <td>4.4</td>\n",
       "      <td>NaN</td>\n",
       "    </tr>\n",
       "  </tbody>\n",
       "</table>\n",
       "</div>"
      ],
      "text/plain": [
       "  LOCATION INDICATOR SUBJECT MEASURE FREQUENCY     TIME  Value  Flag Codes\n",
       "0      USA       HUR     TOT   PC_LF         M  2020-01    3.5         NaN\n",
       "1      USA       HUR     TOT   PC_LF         M  2020-02    3.5         NaN\n",
       "2      USA       HUR     TOT   PC_LF         M  2020-03    4.4         NaN"
      ]
     },
     "execution_count": 3,
     "metadata": {},
     "output_type": "execute_result"
    }
   ],
   "source": [
    "unemployment.head(3)"
   ]
  },
  {
   "cell_type": "code",
   "execution_count": 4,
   "metadata": {
    "id": "yusci6jxNPuo"
   },
   "outputs": [
    {
     "data": {
      "text/html": [
       "<div>\n",
       "<style scoped>\n",
       "    .dataframe tbody tr th:only-of-type {\n",
       "        vertical-align: middle;\n",
       "    }\n",
       "\n",
       "    .dataframe tbody tr th {\n",
       "        vertical-align: top;\n",
       "    }\n",
       "\n",
       "    .dataframe thead th {\n",
       "        text-align: right;\n",
       "    }\n",
       "</style>\n",
       "<table border=\"1\" class=\"dataframe\">\n",
       "  <thead>\n",
       "    <tr style=\"text-align: right;\">\n",
       "      <th></th>\n",
       "      <th>LOCATION</th>\n",
       "      <th>INDICATOR</th>\n",
       "      <th>SUBJECT</th>\n",
       "      <th>MEASURE</th>\n",
       "      <th>FREQUENCY</th>\n",
       "      <th>TIME</th>\n",
       "      <th>Value</th>\n",
       "      <th>Flag Codes</th>\n",
       "    </tr>\n",
       "  </thead>\n",
       "  <tbody>\n",
       "    <tr>\n",
       "      <th>0</th>\n",
       "      <td>USA</td>\n",
       "      <td>HUR</td>\n",
       "      <td>TOT</td>\n",
       "      <td>PC_LF</td>\n",
       "      <td>M</td>\n",
       "      <td>2020-January</td>\n",
       "      <td>3.5</td>\n",
       "      <td>NaN</td>\n",
       "    </tr>\n",
       "    <tr>\n",
       "      <th>1</th>\n",
       "      <td>USA</td>\n",
       "      <td>HUR</td>\n",
       "      <td>TOT</td>\n",
       "      <td>PC_LF</td>\n",
       "      <td>M</td>\n",
       "      <td>2020-February</td>\n",
       "      <td>3.5</td>\n",
       "      <td>NaN</td>\n",
       "    </tr>\n",
       "    <tr>\n",
       "      <th>2</th>\n",
       "      <td>USA</td>\n",
       "      <td>HUR</td>\n",
       "      <td>TOT</td>\n",
       "      <td>PC_LF</td>\n",
       "      <td>M</td>\n",
       "      <td>2020-March</td>\n",
       "      <td>4.4</td>\n",
       "      <td>NaN</td>\n",
       "    </tr>\n",
       "    <tr>\n",
       "      <th>3</th>\n",
       "      <td>USA</td>\n",
       "      <td>HUR</td>\n",
       "      <td>TOT</td>\n",
       "      <td>PC_LF</td>\n",
       "      <td>M</td>\n",
       "      <td>2020-April</td>\n",
       "      <td>14.8</td>\n",
       "      <td>NaN</td>\n",
       "    </tr>\n",
       "    <tr>\n",
       "      <th>4</th>\n",
       "      <td>USA</td>\n",
       "      <td>HUR</td>\n",
       "      <td>TOT</td>\n",
       "      <td>PC_LF</td>\n",
       "      <td>M</td>\n",
       "      <td>2020-May</td>\n",
       "      <td>13.3</td>\n",
       "      <td>NaN</td>\n",
       "    </tr>\n",
       "  </tbody>\n",
       "</table>\n",
       "</div>"
      ],
      "text/plain": [
       "  LOCATION INDICATOR SUBJECT MEASURE FREQUENCY           TIME  Value  \\\n",
       "0      USA       HUR     TOT   PC_LF         M   2020-January    3.5   \n",
       "1      USA       HUR     TOT   PC_LF         M  2020-February    3.5   \n",
       "2      USA       HUR     TOT   PC_LF         M     2020-March    4.4   \n",
       "3      USA       HUR     TOT   PC_LF         M     2020-April   14.8   \n",
       "4      USA       HUR     TOT   PC_LF         M       2020-May   13.3   \n",
       "\n",
       "   Flag Codes  \n",
       "0         NaN  \n",
       "1         NaN  \n",
       "2         NaN  \n",
       "3         NaN  \n",
       "4         NaN  "
      ]
     },
     "execution_count": 4,
     "metadata": {},
     "output_type": "execute_result"
    }
   ],
   "source": [
    "# Change time format to year - name of month\n",
    "unemployment[\"TIME\"] = unemployment[\"TIME\"].apply(lambda x: datetime.datetime.strptime(x, '%Y-%m').strftime('%Y-%B'))\n",
    "unemployment.head()"
   ]
  },
  {
   "cell_type": "code",
   "execution_count": 5,
   "metadata": {
    "id": "3qw7hUKMvEx-"
   },
   "outputs": [
    {
     "data": {
      "text/html": [
       "<div>\n",
       "<style scoped>\n",
       "    .dataframe tbody tr th:only-of-type {\n",
       "        vertical-align: middle;\n",
       "    }\n",
       "\n",
       "    .dataframe tbody tr th {\n",
       "        vertical-align: top;\n",
       "    }\n",
       "\n",
       "    .dataframe thead th {\n",
       "        text-align: right;\n",
       "    }\n",
       "</style>\n",
       "<table border=\"1\" class=\"dataframe\">\n",
       "  <thead>\n",
       "    <tr style=\"text-align: right;\">\n",
       "      <th></th>\n",
       "      <th>TIME</th>\n",
       "      <th>Value</th>\n",
       "    </tr>\n",
       "  </thead>\n",
       "  <tbody>\n",
       "    <tr>\n",
       "      <th>0</th>\n",
       "      <td>2020-January</td>\n",
       "      <td>3.5</td>\n",
       "    </tr>\n",
       "    <tr>\n",
       "      <th>1</th>\n",
       "      <td>2020-February</td>\n",
       "      <td>3.5</td>\n",
       "    </tr>\n",
       "    <tr>\n",
       "      <th>2</th>\n",
       "      <td>2020-March</td>\n",
       "      <td>4.4</td>\n",
       "    </tr>\n",
       "    <tr>\n",
       "      <th>3</th>\n",
       "      <td>2020-April</td>\n",
       "      <td>14.8</td>\n",
       "    </tr>\n",
       "    <tr>\n",
       "      <th>4</th>\n",
       "      <td>2020-May</td>\n",
       "      <td>13.3</td>\n",
       "    </tr>\n",
       "    <tr>\n",
       "      <th>5</th>\n",
       "      <td>2020-June</td>\n",
       "      <td>11.1</td>\n",
       "    </tr>\n",
       "    <tr>\n",
       "      <th>6</th>\n",
       "      <td>2020-July</td>\n",
       "      <td>10.2</td>\n",
       "    </tr>\n",
       "    <tr>\n",
       "      <th>7</th>\n",
       "      <td>2020-August</td>\n",
       "      <td>8.4</td>\n",
       "    </tr>\n",
       "    <tr>\n",
       "      <th>8</th>\n",
       "      <td>2020-September</td>\n",
       "      <td>7.8</td>\n",
       "    </tr>\n",
       "    <tr>\n",
       "      <th>9</th>\n",
       "      <td>2020-October</td>\n",
       "      <td>6.9</td>\n",
       "    </tr>\n",
       "    <tr>\n",
       "      <th>10</th>\n",
       "      <td>2020-November</td>\n",
       "      <td>6.7</td>\n",
       "    </tr>\n",
       "    <tr>\n",
       "      <th>11</th>\n",
       "      <td>2020-December</td>\n",
       "      <td>6.7</td>\n",
       "    </tr>\n",
       "  </tbody>\n",
       "</table>\n",
       "</div>"
      ],
      "text/plain": [
       "              TIME  Value\n",
       "0     2020-January    3.5\n",
       "1    2020-February    3.5\n",
       "2       2020-March    4.4\n",
       "3       2020-April   14.8\n",
       "4         2020-May   13.3\n",
       "5        2020-June   11.1\n",
       "6        2020-July   10.2\n",
       "7      2020-August    8.4\n",
       "8   2020-September    7.8\n",
       "9     2020-October    6.9\n",
       "10   2020-November    6.7\n",
       "11   2020-December    6.7"
      ]
     },
     "execution_count": 5,
     "metadata": {},
     "output_type": "execute_result"
    }
   ],
   "source": [
    "#unemployment rate for the full year of 2020\n",
    "df_2020 = unemployment[[\"TIME\",\"Value\"]].head(12)\n",
    "df_2020"
   ]
  },
  {
   "cell_type": "code",
   "execution_count": 6,
   "metadata": {
    "id": "xbBep4bCwF9x"
   },
   "outputs": [
    {
     "data": {
      "text/plain": [
       "Text(0, 0.5, 'Unemployment Rate %')"
      ]
     },
     "execution_count": 6,
     "metadata": {},
     "output_type": "execute_result"
    },
    {
     "data": {
      "image/png": "[encoded data removed]",
      "text/plain": [
       "<Figure size 432x288 with 1 Axes>"
      ]
     },
     "metadata": {
      "needs_background": "light"
     },
     "output_type": "display_data"
    }
   ],
   "source": [
    "plt.plot(df_2020[\"TIME\"],df_2020[\"Value\"], label = \"Unemployment rate, 2020\")\n",
    "plt.xticks(rotation=80)\n",
    "plt.grid(axis = 'x')\n",
    "plt.legend(loc=\"upper right\",fontsize=10)\n",
    "plt.xlabel(\"Year 2020(In months)\",fontsize=10)\n",
    "plt.ylabel(\"Unemployment Rate %\",fontsize=10)"
   ]
  },
  {
   "cell_type": "markdown",
   "metadata": {
    "id": "KEtyPyV9zRsK"
   },
   "source": [
    "As shown above, the unemployment rate hit a record in the month of april. This jump can be linked to the sudden restrictions imposed by the United States to stop the pandemic. As a result of these restrictions, many businesses had to shutdown their operations, forcing millions of workers to file for unemployment. "
   ]
  },
  {
   "cell_type": "markdown",
   "metadata": {
    "id": "CvxrNruU4pj9"
   },
   "source": [
    "Next, we will be looking at aviation. Aviation typically contributes 5% of GDP to the U.S. economy. "
   ]
  },
  {
   "cell_type": "markdown",
   "metadata": {
    "id": "0d_QKSAeKE8p"
   },
   "source": [
    "## Aviation"
   ]
  },
  {
   "cell_type": "code",
   "execution_count": 7,
   "metadata": {
    "id": "72JR86jb_pb4"
   },
   "outputs": [
    {
     "data": {
      "text/html": [
       "<div>\n",
       "<style scoped>\n",
       "    .dataframe tbody tr th:only-of-type {\n",
       "        vertical-align: middle;\n",
       "    }\n",
       "\n",
       "    .dataframe tbody tr th {\n",
       "        vertical-align: top;\n",
       "    }\n",
       "\n",
       "    .dataframe thead th {\n",
       "        text-align: right;\n",
       "    }\n",
       "</style>\n",
       "<table border=\"1\" class=\"dataframe\">\n",
       "  <thead>\n",
       "    <tr style=\"text-align: right;\">\n",
       "      <th></th>\n",
       "      <th>Week of:</th>\n",
       "      <th>Baseline</th>\n",
       "      <th>Current</th>\n",
       "    </tr>\n",
       "  </thead>\n",
       "  <tbody>\n",
       "    <tr>\n",
       "      <th>0</th>\n",
       "      <td>5-Jan-20</td>\n",
       "      <td>203,187</td>\n",
       "      <td>207,280</td>\n",
       "    </tr>\n",
       "    <tr>\n",
       "      <th>1</th>\n",
       "      <td>12-Jan-20</td>\n",
       "      <td>198,507</td>\n",
       "      <td>204,001</td>\n",
       "    </tr>\n",
       "    <tr>\n",
       "      <th>2</th>\n",
       "      <td>19-Jan-20</td>\n",
       "      <td>195,397</td>\n",
       "      <td>203,842</td>\n",
       "    </tr>\n",
       "    <tr>\n",
       "      <th>3</th>\n",
       "      <td>26-Jan-20</td>\n",
       "      <td>193,211</td>\n",
       "      <td>206,354</td>\n",
       "    </tr>\n",
       "    <tr>\n",
       "      <th>4</th>\n",
       "      <td>2-Feb-20</td>\n",
       "      <td>197,414</td>\n",
       "      <td>202,285</td>\n",
       "    </tr>\n",
       "  </tbody>\n",
       "</table>\n",
       "</div>"
      ],
      "text/plain": [
       "    Week of: Baseline  Current\n",
       "0   5-Jan-20  203,187  207,280\n",
       "1  12-Jan-20  198,507  204,001\n",
       "2  19-Jan-20  195,397  203,842\n",
       "3  26-Jan-20  193,211  206,354\n",
       "4   2-Feb-20  197,414  202,285"
      ]
     },
     "execution_count": 7,
     "metadata": {},
     "output_type": "execute_result"
    }
   ],
   "source": [
    "aviation.head()"
   ]
  },
  {
   "cell_type": "markdown",
   "metadata": {
    "id": "kpZgMRuAKwC1"
   },
   "source": [
    "The data above depics the total number of commercial flights in the United States for the year 2020. The data is from the Bureau of Transportation statistics. The baseline number is the average number of flights that are typically conducted during that time, the average is based of previous years\n",
    "\n",
    "\n",
    "Source: https://www.bts.gov/covid-19/week-in-transportation#aviation"
   ]
  },
  {
   "cell_type": "code",
   "execution_count": 8,
   "metadata": {
    "id": "BJj4-bEeLx-f"
   },
   "outputs": [
    {
     "data": {
      "text/plain": [
       "(52, 3)"
      ]
     },
     "execution_count": 8,
     "metadata": {},
     "output_type": "execute_result"
    }
   ],
   "source": [
    "aviation.shape"
   ]
  },
  {
   "cell_type": "code",
   "execution_count": 9,
   "metadata": {
    "id": "hYSQDshUMHRZ"
   },
   "outputs": [
    {
     "data": {
      "text/html": [
       "<div>\n",
       "<style scoped>\n",
       "    .dataframe tbody tr th:only-of-type {\n",
       "        vertical-align: middle;\n",
       "    }\n",
       "\n",
       "    .dataframe tbody tr th {\n",
       "        vertical-align: top;\n",
       "    }\n",
       "\n",
       "    .dataframe thead th {\n",
       "        text-align: right;\n",
       "    }\n",
       "</style>\n",
       "<table border=\"1\" class=\"dataframe\">\n",
       "  <thead>\n",
       "    <tr style=\"text-align: right;\">\n",
       "      <th></th>\n",
       "      <th>Week of:</th>\n",
       "      <th>Baseline</th>\n",
       "      <th>Current</th>\n",
       "    </tr>\n",
       "  </thead>\n",
       "  <tbody>\n",
       "    <tr>\n",
       "      <th>0</th>\n",
       "      <td>01-Jan,2020</td>\n",
       "      <td>203,187</td>\n",
       "      <td>207,280</td>\n",
       "    </tr>\n",
       "    <tr>\n",
       "      <th>1</th>\n",
       "      <td>01-Jan,2020</td>\n",
       "      <td>198,507</td>\n",
       "      <td>204,001</td>\n",
       "    </tr>\n",
       "    <tr>\n",
       "      <th>2</th>\n",
       "      <td>01-Jan,2020</td>\n",
       "      <td>195,397</td>\n",
       "      <td>203,842</td>\n",
       "    </tr>\n",
       "    <tr>\n",
       "      <th>3</th>\n",
       "      <td>01-Jan,2020</td>\n",
       "      <td>193,211</td>\n",
       "      <td>206,354</td>\n",
       "    </tr>\n",
       "    <tr>\n",
       "      <th>4</th>\n",
       "      <td>02-Feb,2020</td>\n",
       "      <td>197,414</td>\n",
       "      <td>202,285</td>\n",
       "    </tr>\n",
       "  </tbody>\n",
       "</table>\n",
       "</div>"
      ],
      "text/plain": [
       "      Week of: Baseline  Current\n",
       "0  01-Jan,2020  203,187  207,280\n",
       "1  01-Jan,2020  198,507  204,001\n",
       "2  01-Jan,2020  195,397  203,842\n",
       "3  01-Jan,2020  193,211  206,354\n",
       "4  02-Feb,2020  197,414  202,285"
      ]
     },
     "execution_count": 9,
     "metadata": {},
     "output_type": "execute_result"
    }
   ],
   "source": [
    "#The air traffic data was in format, week- month and year, for my purposes, I decided to change it to month-as-day, month name, year\n",
    "aviation[\"Week of:\"] = aviation[\"Week of:\"].apply(lambda x: datetime.datetime.strptime(x, '%d-%b-%y').strftime('%m-%b,%Y'))\n",
    "aviation.head()"
   ]
  },
  {
   "cell_type": "code",
   "execution_count": 10,
   "metadata": {
    "id": "O3Jgw2ZPPgMv"
   },
   "outputs": [],
   "source": [
    "# removes commas from numbers - cannot add numbers with commas\n",
    "aviation[\"Current\"]= aviation[\"Current\"].replace(',','',regex=True)\n",
    "aviation[\"Baseline\"]= aviation[\"Baseline\"].replace(',','',regex=True)\n"
   ]
  },
  {
   "cell_type": "code",
   "execution_count": 11,
   "metadata": {
    "id": "F_Z45CTtvPbN"
   },
   "outputs": [],
   "source": [
    "# converts both columns to type int from type string\n",
    "aviation['Current'] = aviation['Current'].astype(int)\n",
    "aviation['Baseline'] = aviation['Baseline'].astype(int)"
   ]
  },
  {
   "cell_type": "code",
   "execution_count": 12,
   "metadata": {
    "id": "HaT3ZwBvgTMZ"
   },
   "outputs": [],
   "source": [
    "#Groups rows into months. Finds all thr rows with the same months and adds up the numbers\n",
    "# for both baseline column and present column\n",
    "months = aviation[[\"Week of:\",\"Current\"]].groupby([\"Week of:\"]).agg(\"sum\")\n",
    "months = months.reset_index()\n",
    "months.columns = [\"Month\",\"Total US commercial Flights\"]\n",
    "graph_1 = months.sort_values( by = [\"Month\"], ascending=True)\n",
    "\n",
    "\n",
    "months2 = aviation[[\"Week of:\",\"Baseline\"]].groupby([\"Week of:\"]).agg(\"sum\")\n",
    "months2 = months2.reset_index()\n",
    "months2.columns = [\"Month\",\"Total US commercial Flights\"]\n",
    "graph_2 = months2.sort_values( by = [\"Month\"], ascending=True)"
   ]
  },
  {
   "cell_type": "code",
   "execution_count": 13,
   "metadata": {
    "id": "Sn59vaXbyBK0"
   },
   "outputs": [
    {
     "data": {
      "text/plain": [
       "<matplotlib.legend.Legend at 0x1627912c2b0>"
      ]
     },
     "execution_count": 13,
     "metadata": {},
     "output_type": "execute_result"
    },
    {
     "data": {
      "image/png": "[encoded data removed]",
      "text/plain": [
       "<Figure size 432x288 with 1 Axes>"
      ]
     },
     "metadata": {
      "needs_background": "light"
     },
     "output_type": "display_data"
    }
   ],
   "source": [
    "plt.bar(graph_2[\"Month\"],graph_2[\"Total US commercial Flights\"], label = \"Baseline\")\n",
    "plt.bar(graph_1[\"Month\"],graph_1[\"Total US commercial Flights\"], label = \"current\")\n",
    "\n",
    "\n",
    "plt.xticks(rotation=80)\n",
    "plt.grid(axis = 'x')\n",
    "plt.legend(loc=\"upper left\",fontsize=12)"
   ]
  },
  {
   "cell_type": "markdown",
   "metadata": {
    "id": "oWMkLPeS3YE2"
   },
   "source": [
    "The Graph above shows 2 bars. The Baseline bar is the average total number of commercial flights. The whole point of the baseline bar is so I can compare what would be considered normal if covid-19 did not happen. Essentially the control group. The Orange bar shows the total number of commercial flights throughout the year of 2020.\n",
    "\n",
    "\n",
    "Based of my understanding of when covid-19 restrictions took effect in the United States. The graph supports the fact that once covid-19 became a nation-wide concern, air traffic was affected. Consequently, given how much this industry contributes to the overall GDP of the country, it is safe to assume that this lost in air traffic greatly impacted the economy of the country as a result of the pandemic.\n"
   ]
  },
  {
   "cell_type": "markdown",
   "metadata": {
    "id": "vGSV7SVw-8Lp"
   },
   "source": [
    "## Stock Market"
   ]
  },
  {
   "cell_type": "code",
   "execution_count": 14,
   "metadata": {
    "id": "u1z79xHjzjHU"
   },
   "outputs": [
    {
     "name": "stdout",
     "output_type": "stream",
     "text": [
      "Requirement already satisfied: yfinance in c:\\users\\ricar\\anaconda3\\lib\\site-packages (0.1.59)\n",
      "Requirement already satisfied: multitasking>=0.0.7 in c:\\users\\ricar\\anaconda3\\lib\\site-packages (from yfinance) (0.0.9)\n",
      "Requirement already satisfied: requests>=2.20 in c:\\users\\ricar\\anaconda3\\lib\\site-packages (from yfinance) (2.24.0)\n",
      "Requirement already satisfied: numpy>=1.15 in c:\\users\\ricar\\anaconda3\\lib\\site-packages (from yfinance) (1.19.2)\n",
      "Requirement already satisfied: lxml>=4.5.1 in c:\\users\\ricar\\anaconda3\\lib\\site-packages (from yfinance) (4.6.1)\n",
      "Requirement already satisfied: pandas>=0.24 in c:\\users\\ricar\\anaconda3\\lib\\site-packages (from yfinance) (1.1.3)\n",
      "Requirement already satisfied: certifi>=2017.4.17 in c:\\users\\ricar\\anaconda3\\lib\\site-packages (from requests>=2.20->yfinance) (2020.6.20)\n",
      "Requirement already satisfied: urllib3!=1.25.0,!=1.25.1,<1.26,>=1.21.1 in c:\\users\\ricar\\anaconda3\\lib\\site-packages (from requests>=2.20->yfinance) (1.25.11)\n",
      "Requirement already satisfied: chardet<4,>=3.0.2 in c:\\users\\ricar\\anaconda3\\lib\\site-packages (from requests>=2.20->yfinance) (3.0.4)\n",
      "Requirement already satisfied: idna<3,>=2.5 in c:\\users\\ricar\\anaconda3\\lib\\site-packages (from requests>=2.20->yfinance) (2.10)\n",
      "Requirement already satisfied: pytz>=2017.2 in c:\\users\\ricar\\anaconda3\\lib\\site-packages (from pandas>=0.24->yfinance) (2020.1)\n",
      "Requirement already satisfied: python-dateutil>=2.7.3 in c:\\users\\ricar\\anaconda3\\lib\\site-packages (from pandas>=0.24->yfinance) (2.8.1)\n",
      "Requirement already satisfied: six>=1.5 in c:\\users\\ricar\\anaconda3\\lib\\site-packages (from python-dateutil>=2.7.3->pandas>=0.24->yfinance) (1.15.0)\n"
     ]
    }
   ],
   "source": [
    "# Financial stock market API\n",
    "!pip install yfinance"
   ]
  },
  {
   "cell_type": "code",
   "execution_count": 15,
   "metadata": {
    "id": "4CAwWl2gzoMh"
   },
   "outputs": [],
   "source": [
    "#Required packages\n",
    "import yfinance as yf  \n",
    "import matplotlib.pyplot as plt"
   ]
  },
  {
   "cell_type": "markdown",
   "metadata": {
    "id": "S2BRiZnNNhEo"
   },
   "source": [
    "GSPC Stock"
   ]
  },
  {
   "cell_type": "code",
   "execution_count": 16,
   "metadata": {
    "id": "IgV_qjnczogC"
   },
   "outputs": [
    {
     "name": "stdout",
     "output_type": "stream",
     "text": [
      "[*********************100%***********************]  1 of 1 completed\n"
     ]
    }
   ],
   "source": [
    "#https://finance.yahoo.com/quote/%5EGSPC/history?period1=1546300800&period2=1620259200&interval=1wk&filter=history&frequency=1wk&includeAdjustedClose=true\n",
    "gspc = yf.download('^GSPC','2019-01-01','2021-05-06')\n",
    "#data = data.stack().reset_index().rename(index=str, columns={\"level_1\": \"Symbol\"}).sort_values(['Symbol','Date'])\n"
   ]
  },
  {
   "cell_type": "code",
   "execution_count": 17,
   "metadata": {
    "id": "5EndQTi6zoxP"
   },
   "outputs": [
    {
     "data": {
      "text/html": [
       "<div>\n",
       "<style scoped>\n",
       "    .dataframe tbody tr th:only-of-type {\n",
       "        vertical-align: middle;\n",
       "    }\n",
       "\n",
       "    .dataframe tbody tr th {\n",
       "        vertical-align: top;\n",
       "    }\n",
       "\n",
       "    .dataframe thead th {\n",
       "        text-align: right;\n",
       "    }\n",
       "</style>\n",
       "<table border=\"1\" class=\"dataframe\">\n",
       "  <thead>\n",
       "    <tr style=\"text-align: right;\">\n",
       "      <th></th>\n",
       "      <th>Open</th>\n",
       "      <th>High</th>\n",
       "      <th>Low</th>\n",
       "      <th>Close</th>\n",
       "      <th>Adj Close</th>\n",
       "      <th>Volume</th>\n",
       "    </tr>\n",
       "    <tr>\n",
       "      <th>Date</th>\n",
       "      <th></th>\n",
       "      <th></th>\n",
       "      <th></th>\n",
       "      <th></th>\n",
       "      <th></th>\n",
       "      <th></th>\n",
       "    </tr>\n",
       "  </thead>\n",
       "  <tbody>\n",
       "    <tr>\n",
       "      <th>2019-01-02</th>\n",
       "      <td>2476.959961</td>\n",
       "      <td>2519.489990</td>\n",
       "      <td>2467.469971</td>\n",
       "      <td>2510.030029</td>\n",
       "      <td>2510.030029</td>\n",
       "      <td>3733160000</td>\n",
       "    </tr>\n",
       "    <tr>\n",
       "      <th>2019-01-03</th>\n",
       "      <td>2491.919922</td>\n",
       "      <td>2493.139893</td>\n",
       "      <td>2443.959961</td>\n",
       "      <td>2447.889893</td>\n",
       "      <td>2447.889893</td>\n",
       "      <td>3822860000</td>\n",
       "    </tr>\n",
       "    <tr>\n",
       "      <th>2019-01-04</th>\n",
       "      <td>2474.330078</td>\n",
       "      <td>2538.070068</td>\n",
       "      <td>2474.330078</td>\n",
       "      <td>2531.939941</td>\n",
       "      <td>2531.939941</td>\n",
       "      <td>4213410000</td>\n",
       "    </tr>\n",
       "    <tr>\n",
       "      <th>2019-01-07</th>\n",
       "      <td>2535.610107</td>\n",
       "      <td>2566.159912</td>\n",
       "      <td>2524.560059</td>\n",
       "      <td>2549.689941</td>\n",
       "      <td>2549.689941</td>\n",
       "      <td>4104710000</td>\n",
       "    </tr>\n",
       "    <tr>\n",
       "      <th>2019-01-08</th>\n",
       "      <td>2568.110107</td>\n",
       "      <td>2579.820068</td>\n",
       "      <td>2547.560059</td>\n",
       "      <td>2574.409912</td>\n",
       "      <td>2574.409912</td>\n",
       "      <td>4083030000</td>\n",
       "    </tr>\n",
       "    <tr>\n",
       "      <th>2019-01-09</th>\n",
       "      <td>2580.000000</td>\n",
       "      <td>2595.320068</td>\n",
       "      <td>2568.889893</td>\n",
       "      <td>2584.959961</td>\n",
       "      <td>2584.959961</td>\n",
       "      <td>4052480000</td>\n",
       "    </tr>\n",
       "    <tr>\n",
       "      <th>2019-01-10</th>\n",
       "      <td>2573.510010</td>\n",
       "      <td>2597.820068</td>\n",
       "      <td>2562.020020</td>\n",
       "      <td>2596.639893</td>\n",
       "      <td>2596.639893</td>\n",
       "      <td>3704500000</td>\n",
       "    </tr>\n",
       "    <tr>\n",
       "      <th>2019-01-11</th>\n",
       "      <td>2588.110107</td>\n",
       "      <td>2596.270020</td>\n",
       "      <td>2577.399902</td>\n",
       "      <td>2596.260010</td>\n",
       "      <td>2596.260010</td>\n",
       "      <td>3434490000</td>\n",
       "    </tr>\n",
       "    <tr>\n",
       "      <th>2019-01-14</th>\n",
       "      <td>2580.310059</td>\n",
       "      <td>2589.320068</td>\n",
       "      <td>2570.409912</td>\n",
       "      <td>2582.610107</td>\n",
       "      <td>2582.610107</td>\n",
       "      <td>3664450000</td>\n",
       "    </tr>\n",
       "    <tr>\n",
       "      <th>2019-01-15</th>\n",
       "      <td>2585.100098</td>\n",
       "      <td>2613.080078</td>\n",
       "      <td>2585.100098</td>\n",
       "      <td>2610.300049</td>\n",
       "      <td>2610.300049</td>\n",
       "      <td>3572330000</td>\n",
       "    </tr>\n",
       "  </tbody>\n",
       "</table>\n",
       "</div>"
      ],
      "text/plain": [
       "                   Open         High          Low        Close    Adj Close  \\\n",
       "Date                                                                          \n",
       "2019-01-02  2476.959961  2519.489990  2467.469971  2510.030029  2510.030029   \n",
       "2019-01-03  2491.919922  2493.139893  2443.959961  2447.889893  2447.889893   \n",
       "2019-01-04  2474.330078  2538.070068  2474.330078  2531.939941  2531.939941   \n",
       "2019-01-07  2535.610107  2566.159912  2524.560059  2549.689941  2549.689941   \n",
       "2019-01-08  2568.110107  2579.820068  2547.560059  2574.409912  2574.409912   \n",
       "2019-01-09  2580.000000  2595.320068  2568.889893  2584.959961  2584.959961   \n",
       "2019-01-10  2573.510010  2597.820068  2562.020020  2596.639893  2596.639893   \n",
       "2019-01-11  2588.110107  2596.270020  2577.399902  2596.260010  2596.260010   \n",
       "2019-01-14  2580.310059  2589.320068  2570.409912  2582.610107  2582.610107   \n",
       "2019-01-15  2585.100098  2613.080078  2585.100098  2610.300049  2610.300049   \n",
       "\n",
       "                Volume  \n",
       "Date                    \n",
       "2019-01-02  3733160000  \n",
       "2019-01-03  3822860000  \n",
       "2019-01-04  4213410000  \n",
       "2019-01-07  4104710000  \n",
       "2019-01-08  4083030000  \n",
       "2019-01-09  4052480000  \n",
       "2019-01-10  3704500000  \n",
       "2019-01-11  3434490000  \n",
       "2019-01-14  3664450000  \n",
       "2019-01-15  3572330000  "
      ]
     },
     "execution_count": 17,
     "metadata": {},
     "output_type": "execute_result"
    }
   ],
   "source": [
    "# Prints first 10\n",
    "gspc.head(10)"
   ]
  },
  {
   "cell_type": "code",
   "execution_count": 18,
   "metadata": {
    "id": "Scp6P1hjzo9w"
   },
   "outputs": [
    {
     "data": {
      "text/plain": [
       "Open         1.882883e+06\n",
       "High         1.893980e+06\n",
       "Low          1.871091e+06\n",
       "Close        1.883581e+06\n",
       "Adj Close    1.883581e+06\n",
       "Volume       2.557360e+12\n",
       "dtype: float64"
      ]
     },
     "execution_count": 18,
     "metadata": {},
     "output_type": "execute_result"
    }
   ],
   "source": [
    "# Sum of each column\n",
    "gspc.sum()"
   ]
  },
  {
   "cell_type": "code",
   "execution_count": 19,
   "metadata": {
    "id": "CejIsw9RmTJt"
   },
   "outputs": [
    {
     "data": {
      "text/plain": [
       "Open         0\n",
       "High         0\n",
       "Low          0\n",
       "Close        0\n",
       "Adj Close    0\n",
       "Volume       0\n",
       "dtype: int64"
      ]
     },
     "execution_count": 19,
     "metadata": {},
     "output_type": "execute_result"
    }
   ],
   "source": [
    "# Check for null values\n",
    "gspc.isnull().sum()"
   ]
  },
  {
   "cell_type": "code",
   "execution_count": 20,
   "metadata": {
    "id": "aZATVIAPybA1"
   },
   "outputs": [
    {
     "data": {
      "image/png": "[encoded data removed]",
      "text/plain": [
       "<Figure size 432x288 with 1 Axes>"
      ]
     },
     "metadata": {
      "needs_background": "light"
     },
     "output_type": "display_data"
    }
   ],
   "source": [
    "# Line graph for gspc Adj Close\n",
    "gspc[\"Adj Close\"].plot()\n",
    "plt.show()"
   ]
  },
  {
   "cell_type": "markdown",
   "metadata": {
    "id": "9SK2A2_zNqHh"
   },
   "source": [
    "NDX Stock"
   ]
  },
  {
   "cell_type": "code",
   "execution_count": 21,
   "metadata": {
    "id": "H6mgxeAhce2f"
   },
   "outputs": [
    {
     "name": "stdout",
     "output_type": "stream",
     "text": [
      "[*********************100%***********************]  1 of 1 completed\n"
     ]
    },
    {
     "data": {
      "text/html": [
       "<div>\n",
       "<style scoped>\n",
       "    .dataframe tbody tr th:only-of-type {\n",
       "        vertical-align: middle;\n",
       "    }\n",
       "\n",
       "    .dataframe tbody tr th {\n",
       "        vertical-align: top;\n",
       "    }\n",
       "\n",
       "    .dataframe thead th {\n",
       "        text-align: right;\n",
       "    }\n",
       "</style>\n",
       "<table border=\"1\" class=\"dataframe\">\n",
       "  <thead>\n",
       "    <tr style=\"text-align: right;\">\n",
       "      <th></th>\n",
       "      <th>Open</th>\n",
       "      <th>High</th>\n",
       "      <th>Low</th>\n",
       "      <th>Close</th>\n",
       "      <th>Adj Close</th>\n",
       "      <th>Volume</th>\n",
       "    </tr>\n",
       "    <tr>\n",
       "      <th>Date</th>\n",
       "      <th></th>\n",
       "      <th></th>\n",
       "      <th></th>\n",
       "      <th></th>\n",
       "      <th></th>\n",
       "      <th></th>\n",
       "    </tr>\n",
       "  </thead>\n",
       "  <tbody>\n",
       "    <tr>\n",
       "      <th>2019-01-02</th>\n",
       "      <td>6198.680176</td>\n",
       "      <td>6394.740234</td>\n",
       "      <td>6198.680176</td>\n",
       "      <td>6360.870117</td>\n",
       "      <td>6360.870117</td>\n",
       "      <td>2261800000</td>\n",
       "    </tr>\n",
       "    <tr>\n",
       "      <th>2019-01-03</th>\n",
       "      <td>6274.759766</td>\n",
       "      <td>6292.680176</td>\n",
       "      <td>6139.399902</td>\n",
       "      <td>6147.129883</td>\n",
       "      <td>6147.129883</td>\n",
       "      <td>2607290000</td>\n",
       "    </tr>\n",
       "    <tr>\n",
       "      <th>2019-01-04</th>\n",
       "      <td>6250.049805</td>\n",
       "      <td>6445.200195</td>\n",
       "      <td>6234.589844</td>\n",
       "      <td>6422.669922</td>\n",
       "      <td>6422.669922</td>\n",
       "      <td>2579550000</td>\n",
       "    </tr>\n",
       "    <tr>\n",
       "      <th>2019-01-07</th>\n",
       "      <td>6434.549805</td>\n",
       "      <td>6521.439941</td>\n",
       "      <td>6412.979980</td>\n",
       "      <td>6488.250000</td>\n",
       "      <td>6488.250000</td>\n",
       "      <td>2507550000</td>\n",
       "    </tr>\n",
       "    <tr>\n",
       "      <th>2019-01-08</th>\n",
       "      <td>6555.910156</td>\n",
       "      <td>6574.729980</td>\n",
       "      <td>6457.000000</td>\n",
       "      <td>6551.850098</td>\n",
       "      <td>6551.850098</td>\n",
       "      <td>2378290000</td>\n",
       "    </tr>\n",
       "    <tr>\n",
       "      <th>2019-01-09</th>\n",
       "      <td>6576.540039</td>\n",
       "      <td>6631.060059</td>\n",
       "      <td>6549.439941</td>\n",
       "      <td>6600.689941</td>\n",
       "      <td>6600.689941</td>\n",
       "      <td>2422590000</td>\n",
       "    </tr>\n",
       "    <tr>\n",
       "      <th>2019-01-10</th>\n",
       "      <td>6551.049805</td>\n",
       "      <td>6625.109863</td>\n",
       "      <td>6517.540039</td>\n",
       "      <td>6620.939941</td>\n",
       "      <td>6620.939941</td>\n",
       "      <td>2179080000</td>\n",
       "    </tr>\n",
       "    <tr>\n",
       "      <th>2019-01-11</th>\n",
       "      <td>6579.890137</td>\n",
       "      <td>6604.560059</td>\n",
       "      <td>6562.040039</td>\n",
       "      <td>6601.399902</td>\n",
       "      <td>6601.399902</td>\n",
       "      <td>2066500000</td>\n",
       "    </tr>\n",
       "    <tr>\n",
       "      <th>2019-01-14</th>\n",
       "      <td>6536.370117</td>\n",
       "      <td>6566.870117</td>\n",
       "      <td>6512.640137</td>\n",
       "      <td>6541.040039</td>\n",
       "      <td>6541.040039</td>\n",
       "      <td>1942210000</td>\n",
       "    </tr>\n",
       "    <tr>\n",
       "      <th>2019-01-15</th>\n",
       "      <td>6571.149902</td>\n",
       "      <td>6674.529785</td>\n",
       "      <td>6567.319824</td>\n",
       "      <td>6669.640137</td>\n",
       "      <td>6669.640137</td>\n",
       "      <td>2038090000</td>\n",
       "    </tr>\n",
       "  </tbody>\n",
       "</table>\n",
       "</div>"
      ],
      "text/plain": [
       "                   Open         High          Low        Close    Adj Close  \\\n",
       "Date                                                                          \n",
       "2019-01-02  6198.680176  6394.740234  6198.680176  6360.870117  6360.870117   \n",
       "2019-01-03  6274.759766  6292.680176  6139.399902  6147.129883  6147.129883   \n",
       "2019-01-04  6250.049805  6445.200195  6234.589844  6422.669922  6422.669922   \n",
       "2019-01-07  6434.549805  6521.439941  6412.979980  6488.250000  6488.250000   \n",
       "2019-01-08  6555.910156  6574.729980  6457.000000  6551.850098  6551.850098   \n",
       "2019-01-09  6576.540039  6631.060059  6549.439941  6600.689941  6600.689941   \n",
       "2019-01-10  6551.049805  6625.109863  6517.540039  6620.939941  6620.939941   \n",
       "2019-01-11  6579.890137  6604.560059  6562.040039  6601.399902  6601.399902   \n",
       "2019-01-14  6536.370117  6566.870117  6512.640137  6541.040039  6541.040039   \n",
       "2019-01-15  6571.149902  6674.529785  6567.319824  6669.640137  6669.640137   \n",
       "\n",
       "                Volume  \n",
       "Date                    \n",
       "2019-01-02  2261800000  \n",
       "2019-01-03  2607290000  \n",
       "2019-01-04  2579550000  \n",
       "2019-01-07  2507550000  \n",
       "2019-01-08  2378290000  \n",
       "2019-01-09  2422590000  \n",
       "2019-01-10  2179080000  \n",
       "2019-01-11  2066500000  \n",
       "2019-01-14  1942210000  \n",
       "2019-01-15  2038090000  "
      ]
     },
     "execution_count": 21,
     "metadata": {},
     "output_type": "execute_result"
    }
   ],
   "source": [
    "# https://finance.yahoo.com/quote/%5ENDX/history?p=%5ENDX\n",
    "ndx = yf.download('NDX','2019-01-01','2021-05-06')\n",
    "#ndx = ndx.stack().reset_index().rename(index=str, columns={\"level_1\": \"C\"}).sort_values(['Date'])\n",
    "ndx.head(10)"
   ]
  },
  {
   "cell_type": "code",
   "execution_count": 22,
   "metadata": {
    "id": "PP2GBOydcyL7"
   },
   "outputs": [
    {
     "data": {
      "text/plain": [
       "Open         5.653295e+06\n",
       "High         5.696615e+06\n",
       "Low          5.606901e+06\n",
       "Close        5.656081e+06\n",
       "Adj Close    5.656081e+06\n",
       "Volume       2.060112e+12\n",
       "dtype: float64"
      ]
     },
     "execution_count": 22,
     "metadata": {},
     "output_type": "execute_result"
    }
   ],
   "source": [
    "# Sum of each column\n",
    "ndx.sum()"
   ]
  },
  {
   "cell_type": "code",
   "execution_count": 23,
   "metadata": {
    "id": "QLNo_PpwmK06"
   },
   "outputs": [
    {
     "data": {
      "text/plain": [
       "Open         0\n",
       "High         0\n",
       "Low          0\n",
       "Close        0\n",
       "Adj Close    0\n",
       "Volume       0\n",
       "dtype: int64"
      ]
     },
     "execution_count": 23,
     "metadata": {},
     "output_type": "execute_result"
    }
   ],
   "source": [
    "# Check for null values\n",
    "ndx.isnull().sum()"
   ]
  },
  {
   "cell_type": "code",
   "execution_count": 24,
   "metadata": {
    "id": "1b_5Q8eGc5Y0"
   },
   "outputs": [
    {
     "data": {
      "image/png": "[encoded data removed]",
      "text/plain": [
       "<Figure size 432x288 with 1 Axes>"
      ]
     },
     "metadata": {
      "needs_background": "light"
     },
     "output_type": "display_data"
    }
   ],
   "source": [
    "# Line graph for gspc Adj Close\n",
    "ndx[\"Adj Close\"].plot()\n",
    "plt.show()"
   ]
  },
  {
   "cell_type": "markdown",
   "metadata": {
    "id": "UzMoI9iW82qy"
   },
   "source": [
    " The S&P 500 and Nasdaq are the indexes that attempt to gauge the health of financial market by tracking specific stocks. As shown above, the S&P 500 which is gspc and Nasdaq which is ndx collapsed in the month of april. This jump can be linked to the sudden restrictions imposed by the United States to stop the pandemic. As a result of these restrictions, many businesses had to shutdown their operation which impacted the stock market. However, over period of time, we can see that stock market recovered and even got higher than before the pandemic started. Therefore, we can conclude that covid 19 impacted the stock market for couple months only.\n",
    "\n"
   ]
  },
  {
   "cell_type": "markdown",
   "metadata": {
    "id": "t7DeER8GAIcN"
   },
   "source": [
    "## Interest Rate"
   ]
  },
  {
   "cell_type": "code",
   "execution_count": 25,
   "metadata": {
    "id": "PY4N9Q11qGax"
   },
   "outputs": [
    {
     "data": {
      "text/html": [
       "<div>\n",
       "<style scoped>\n",
       "    .dataframe tbody tr th:only-of-type {\n",
       "        vertical-align: middle;\n",
       "    }\n",
       "\n",
       "    .dataframe tbody tr th {\n",
       "        vertical-align: top;\n",
       "    }\n",
       "\n",
       "    .dataframe thead th {\n",
       "        text-align: right;\n",
       "    }\n",
       "</style>\n",
       "<table border=\"1\" class=\"dataframe\">\n",
       "  <thead>\n",
       "    <tr style=\"text-align: right;\">\n",
       "      <th></th>\n",
       "      <th>Date</th>\n",
       "      <th>1 Mo</th>\n",
       "      <th>2 Mo</th>\n",
       "      <th>3 Mo</th>\n",
       "      <th>6 Mo</th>\n",
       "      <th>1 Yr</th>\n",
       "      <th>2 Yr</th>\n",
       "      <th>3 Yr</th>\n",
       "      <th>5 Yr</th>\n",
       "      <th>7 Yr</th>\n",
       "      <th>10 Yr</th>\n",
       "      <th>20 Yr</th>\n",
       "      <th>30 Yr</th>\n",
       "    </tr>\n",
       "  </thead>\n",
       "  <tbody>\n",
       "    <tr>\n",
       "      <th>0</th>\n",
       "      <td>1/2/19</td>\n",
       "      <td>2.40</td>\n",
       "      <td>2.40</td>\n",
       "      <td>2.42</td>\n",
       "      <td>2.51</td>\n",
       "      <td>2.60</td>\n",
       "      <td>2.50</td>\n",
       "      <td>2.47</td>\n",
       "      <td>2.49</td>\n",
       "      <td>2.56</td>\n",
       "      <td>2.66</td>\n",
       "      <td>2.83</td>\n",
       "      <td>2.97</td>\n",
       "    </tr>\n",
       "    <tr>\n",
       "      <th>1</th>\n",
       "      <td>1/3/19</td>\n",
       "      <td>2.42</td>\n",
       "      <td>2.42</td>\n",
       "      <td>2.41</td>\n",
       "      <td>2.47</td>\n",
       "      <td>2.50</td>\n",
       "      <td>2.39</td>\n",
       "      <td>2.35</td>\n",
       "      <td>2.37</td>\n",
       "      <td>2.44</td>\n",
       "      <td>2.56</td>\n",
       "      <td>2.75</td>\n",
       "      <td>2.92</td>\n",
       "    </tr>\n",
       "    <tr>\n",
       "      <th>2</th>\n",
       "      <td>1/4/19</td>\n",
       "      <td>2.40</td>\n",
       "      <td>2.42</td>\n",
       "      <td>2.42</td>\n",
       "      <td>2.51</td>\n",
       "      <td>2.57</td>\n",
       "      <td>2.50</td>\n",
       "      <td>2.47</td>\n",
       "      <td>2.49</td>\n",
       "      <td>2.56</td>\n",
       "      <td>2.67</td>\n",
       "      <td>2.83</td>\n",
       "      <td>2.98</td>\n",
       "    </tr>\n",
       "    <tr>\n",
       "      <th>3</th>\n",
       "      <td>1/7/19</td>\n",
       "      <td>2.42</td>\n",
       "      <td>2.42</td>\n",
       "      <td>2.45</td>\n",
       "      <td>2.54</td>\n",
       "      <td>2.58</td>\n",
       "      <td>2.53</td>\n",
       "      <td>2.51</td>\n",
       "      <td>2.53</td>\n",
       "      <td>2.60</td>\n",
       "      <td>2.70</td>\n",
       "      <td>2.86</td>\n",
       "      <td>2.99</td>\n",
       "    </tr>\n",
       "    <tr>\n",
       "      <th>4</th>\n",
       "      <td>1/8/19</td>\n",
       "      <td>2.40</td>\n",
       "      <td>2.42</td>\n",
       "      <td>2.46</td>\n",
       "      <td>2.54</td>\n",
       "      <td>2.60</td>\n",
       "      <td>2.58</td>\n",
       "      <td>2.57</td>\n",
       "      <td>2.58</td>\n",
       "      <td>2.63</td>\n",
       "      <td>2.73</td>\n",
       "      <td>2.88</td>\n",
       "      <td>3.00</td>\n",
       "    </tr>\n",
       "    <tr>\n",
       "      <th>5</th>\n",
       "      <td>1/9/19</td>\n",
       "      <td>2.40</td>\n",
       "      <td>2.42</td>\n",
       "      <td>2.45</td>\n",
       "      <td>2.52</td>\n",
       "      <td>2.59</td>\n",
       "      <td>2.56</td>\n",
       "      <td>2.54</td>\n",
       "      <td>2.57</td>\n",
       "      <td>2.64</td>\n",
       "      <td>2.74</td>\n",
       "      <td>2.90</td>\n",
       "      <td>3.03</td>\n",
       "    </tr>\n",
       "    <tr>\n",
       "      <th>6</th>\n",
       "      <td>1/10/19</td>\n",
       "      <td>2.42</td>\n",
       "      <td>2.42</td>\n",
       "      <td>2.43</td>\n",
       "      <td>2.51</td>\n",
       "      <td>2.59</td>\n",
       "      <td>2.56</td>\n",
       "      <td>2.54</td>\n",
       "      <td>2.56</td>\n",
       "      <td>2.63</td>\n",
       "      <td>2.74</td>\n",
       "      <td>2.92</td>\n",
       "      <td>3.06</td>\n",
       "    </tr>\n",
       "    <tr>\n",
       "      <th>7</th>\n",
       "      <td>1/11/19</td>\n",
       "      <td>2.41</td>\n",
       "      <td>2.43</td>\n",
       "      <td>2.43</td>\n",
       "      <td>2.50</td>\n",
       "      <td>2.58</td>\n",
       "      <td>2.55</td>\n",
       "      <td>2.51</td>\n",
       "      <td>2.52</td>\n",
       "      <td>2.60</td>\n",
       "      <td>2.71</td>\n",
       "      <td>2.90</td>\n",
       "      <td>3.04</td>\n",
       "    </tr>\n",
       "    <tr>\n",
       "      <th>8</th>\n",
       "      <td>1/14/19</td>\n",
       "      <td>2.42</td>\n",
       "      <td>2.43</td>\n",
       "      <td>2.45</td>\n",
       "      <td>2.52</td>\n",
       "      <td>2.57</td>\n",
       "      <td>2.53</td>\n",
       "      <td>2.51</td>\n",
       "      <td>2.53</td>\n",
       "      <td>2.60</td>\n",
       "      <td>2.71</td>\n",
       "      <td>2.91</td>\n",
       "      <td>3.06</td>\n",
       "    </tr>\n",
       "    <tr>\n",
       "      <th>9</th>\n",
       "      <td>1/15/19</td>\n",
       "      <td>2.41</td>\n",
       "      <td>2.43</td>\n",
       "      <td>2.45</td>\n",
       "      <td>2.52</td>\n",
       "      <td>2.57</td>\n",
       "      <td>2.53</td>\n",
       "      <td>2.51</td>\n",
       "      <td>2.53</td>\n",
       "      <td>2.61</td>\n",
       "      <td>2.72</td>\n",
       "      <td>2.92</td>\n",
       "      <td>3.08</td>\n",
       "    </tr>\n",
       "  </tbody>\n",
       "</table>\n",
       "</div>"
      ],
      "text/plain": [
       "      Date  1 Mo  2 Mo  3 Mo  6 Mo  1 Yr  2 Yr  3 Yr  5 Yr  7 Yr  10 Yr  \\\n",
       "0   1/2/19  2.40  2.40  2.42  2.51  2.60  2.50  2.47  2.49  2.56   2.66   \n",
       "1   1/3/19  2.42  2.42  2.41  2.47  2.50  2.39  2.35  2.37  2.44   2.56   \n",
       "2   1/4/19  2.40  2.42  2.42  2.51  2.57  2.50  2.47  2.49  2.56   2.67   \n",
       "3   1/7/19  2.42  2.42  2.45  2.54  2.58  2.53  2.51  2.53  2.60   2.70   \n",
       "4   1/8/19  2.40  2.42  2.46  2.54  2.60  2.58  2.57  2.58  2.63   2.73   \n",
       "5   1/9/19  2.40  2.42  2.45  2.52  2.59  2.56  2.54  2.57  2.64   2.74   \n",
       "6  1/10/19  2.42  2.42  2.43  2.51  2.59  2.56  2.54  2.56  2.63   2.74   \n",
       "7  1/11/19  2.41  2.43  2.43  2.50  2.58  2.55  2.51  2.52  2.60   2.71   \n",
       "8  1/14/19  2.42  2.43  2.45  2.52  2.57  2.53  2.51  2.53  2.60   2.71   \n",
       "9  1/15/19  2.41  2.43  2.45  2.52  2.57  2.53  2.51  2.53  2.61   2.72   \n",
       "\n",
       "   20 Yr  30 Yr  \n",
       "0   2.83   2.97  \n",
       "1   2.75   2.92  \n",
       "2   2.83   2.98  \n",
       "3   2.86   2.99  \n",
       "4   2.88   3.00  \n",
       "5   2.90   3.03  \n",
       "6   2.92   3.06  \n",
       "7   2.90   3.04  \n",
       "8   2.91   3.06  \n",
       "9   2.92   3.08  "
      ]
     },
     "execution_count": 25,
     "metadata": {},
     "output_type": "execute_result"
    }
   ],
   "source": [
    "# Read 2019 Interest CSV file\n",
    "# https://www.treasury.gov/resource-center/data-chart-center/interest-rates/Pages/TextView.aspx?data=yieldYear&year=2019\n",
    "interest2019 = pd.read_csv(\"2019 interest_data.csv\")\n",
    "\n",
    "interest2019.head(10)"
   ]
  },
  {
   "cell_type": "code",
   "execution_count": 26,
   "metadata": {
    "id": "vFrpqT8tuuOa"
   },
   "outputs": [
    {
     "data": {
      "text/html": [
       "<div>\n",
       "<style scoped>\n",
       "    .dataframe tbody tr th:only-of-type {\n",
       "        vertical-align: middle;\n",
       "    }\n",
       "\n",
       "    .dataframe tbody tr th {\n",
       "        vertical-align: top;\n",
       "    }\n",
       "\n",
       "    .dataframe thead th {\n",
       "        text-align: right;\n",
       "    }\n",
       "</style>\n",
       "<table border=\"1\" class=\"dataframe\">\n",
       "  <thead>\n",
       "    <tr style=\"text-align: right;\">\n",
       "      <th></th>\n",
       "      <th>Date</th>\n",
       "      <th>30 Yr</th>\n",
       "    </tr>\n",
       "  </thead>\n",
       "  <tbody>\n",
       "    <tr>\n",
       "      <th>0</th>\n",
       "      <td>1/2/19</td>\n",
       "      <td>2.97</td>\n",
       "    </tr>\n",
       "    <tr>\n",
       "      <th>1</th>\n",
       "      <td>1/3/19</td>\n",
       "      <td>2.92</td>\n",
       "    </tr>\n",
       "    <tr>\n",
       "      <th>2</th>\n",
       "      <td>1/4/19</td>\n",
       "      <td>2.98</td>\n",
       "    </tr>\n",
       "    <tr>\n",
       "      <th>3</th>\n",
       "      <td>1/7/19</td>\n",
       "      <td>2.99</td>\n",
       "    </tr>\n",
       "    <tr>\n",
       "      <th>4</th>\n",
       "      <td>1/8/19</td>\n",
       "      <td>3.00</td>\n",
       "    </tr>\n",
       "    <tr>\n",
       "      <th>...</th>\n",
       "      <td>...</td>\n",
       "      <td>...</td>\n",
       "    </tr>\n",
       "    <tr>\n",
       "      <th>245</th>\n",
       "      <td>12/24/19</td>\n",
       "      <td>2.33</td>\n",
       "    </tr>\n",
       "    <tr>\n",
       "      <th>246</th>\n",
       "      <td>12/26/19</td>\n",
       "      <td>2.33</td>\n",
       "    </tr>\n",
       "    <tr>\n",
       "      <th>247</th>\n",
       "      <td>12/27/19</td>\n",
       "      <td>2.32</td>\n",
       "    </tr>\n",
       "    <tr>\n",
       "      <th>248</th>\n",
       "      <td>12/30/19</td>\n",
       "      <td>2.34</td>\n",
       "    </tr>\n",
       "    <tr>\n",
       "      <th>249</th>\n",
       "      <td>12/31/19</td>\n",
       "      <td>2.39</td>\n",
       "    </tr>\n",
       "  </tbody>\n",
       "</table>\n",
       "<p>250 rows × 2 columns</p>\n",
       "</div>"
      ],
      "text/plain": [
       "         Date  30 Yr\n",
       "0      1/2/19   2.97\n",
       "1      1/3/19   2.92\n",
       "2      1/4/19   2.98\n",
       "3      1/7/19   2.99\n",
       "4      1/8/19   3.00\n",
       "..        ...    ...\n",
       "245  12/24/19   2.33\n",
       "246  12/26/19   2.33\n",
       "247  12/27/19   2.32\n",
       "248  12/30/19   2.34\n",
       "249  12/31/19   2.39\n",
       "\n",
       "[250 rows x 2 columns]"
      ]
     },
     "execution_count": 26,
     "metadata": {},
     "output_type": "execute_result"
    }
   ],
   "source": [
    "# Focused on 30 Years of 2019 Interest Rate\n",
    "new_interest2019 = interest2019[['Date','30 Yr']]\n",
    "new_interest2019"
   ]
  },
  {
   "cell_type": "code",
   "execution_count": 27,
   "metadata": {
    "id": "qwG6B83r3GxL"
   },
   "outputs": [
    {
     "data": {
      "text/html": [
       "<div>\n",
       "<style scoped>\n",
       "    .dataframe tbody tr th:only-of-type {\n",
       "        vertical-align: middle;\n",
       "    }\n",
       "\n",
       "    .dataframe tbody tr th {\n",
       "        vertical-align: top;\n",
       "    }\n",
       "\n",
       "    .dataframe thead th {\n",
       "        text-align: right;\n",
       "    }\n",
       "</style>\n",
       "<table border=\"1\" class=\"dataframe\">\n",
       "  <thead>\n",
       "    <tr style=\"text-align: right;\">\n",
       "      <th></th>\n",
       "      <th>30 Yr</th>\n",
       "    </tr>\n",
       "  </thead>\n",
       "  <tbody>\n",
       "    <tr>\n",
       "      <th>count</th>\n",
       "      <td>250.000000</td>\n",
       "    </tr>\n",
       "    <tr>\n",
       "      <th>mean</th>\n",
       "      <td>2.580400</td>\n",
       "    </tr>\n",
       "    <tr>\n",
       "      <th>std</th>\n",
       "      <td>0.357891</td>\n",
       "    </tr>\n",
       "    <tr>\n",
       "      <th>min</th>\n",
       "      <td>1.940000</td>\n",
       "    </tr>\n",
       "    <tr>\n",
       "      <th>25%</th>\n",
       "      <td>2.260000</td>\n",
       "    </tr>\n",
       "    <tr>\n",
       "      <th>50%</th>\n",
       "      <td>2.575000</td>\n",
       "    </tr>\n",
       "    <tr>\n",
       "      <th>75%</th>\n",
       "      <td>2.940000</td>\n",
       "    </tr>\n",
       "    <tr>\n",
       "      <th>max</th>\n",
       "      <td>3.130000</td>\n",
       "    </tr>\n",
       "  </tbody>\n",
       "</table>\n",
       "</div>"
      ],
      "text/plain": [
       "            30 Yr\n",
       "count  250.000000\n",
       "mean     2.580400\n",
       "std      0.357891\n",
       "min      1.940000\n",
       "25%      2.260000\n",
       "50%      2.575000\n",
       "75%      2.940000\n",
       "max      3.130000"
      ]
     },
     "execution_count": 27,
     "metadata": {},
     "output_type": "execute_result"
    }
   ],
   "source": [
    "# 5 number summary\n",
    "new_interest2019.describe()"
   ]
  },
  {
   "cell_type": "code",
   "execution_count": 28,
   "metadata": {
    "id": "OqQiiuZdulpH"
   },
   "outputs": [
    {
     "data": {
      "text/html": [
       "<div>\n",
       "<style scoped>\n",
       "    .dataframe tbody tr th:only-of-type {\n",
       "        vertical-align: middle;\n",
       "    }\n",
       "\n",
       "    .dataframe tbody tr th {\n",
       "        vertical-align: top;\n",
       "    }\n",
       "\n",
       "    .dataframe thead th {\n",
       "        text-align: right;\n",
       "    }\n",
       "</style>\n",
       "<table border=\"1\" class=\"dataframe\">\n",
       "  <thead>\n",
       "    <tr style=\"text-align: right;\">\n",
       "      <th></th>\n",
       "      <th>Date</th>\n",
       "      <th>1 Mo</th>\n",
       "      <th>2 Mo</th>\n",
       "      <th>3 Mo</th>\n",
       "      <th>6 Mo</th>\n",
       "      <th>1 Yr</th>\n",
       "      <th>2 Yr</th>\n",
       "      <th>3 Yr</th>\n",
       "      <th>5 Yr</th>\n",
       "      <th>7 Yr</th>\n",
       "      <th>10 Yr</th>\n",
       "      <th>20 Yr</th>\n",
       "      <th>30 Yr</th>\n",
       "    </tr>\n",
       "  </thead>\n",
       "  <tbody>\n",
       "    <tr>\n",
       "      <th>0</th>\n",
       "      <td>1/2/20</td>\n",
       "      <td>1.53</td>\n",
       "      <td>1.55</td>\n",
       "      <td>1.54</td>\n",
       "      <td>1.57</td>\n",
       "      <td>1.56</td>\n",
       "      <td>1.58</td>\n",
       "      <td>1.59</td>\n",
       "      <td>1.67</td>\n",
       "      <td>1.79</td>\n",
       "      <td>1.88</td>\n",
       "      <td>2.19</td>\n",
       "      <td>2.33</td>\n",
       "    </tr>\n",
       "    <tr>\n",
       "      <th>1</th>\n",
       "      <td>1/3/20</td>\n",
       "      <td>1.52</td>\n",
       "      <td>1.55</td>\n",
       "      <td>1.52</td>\n",
       "      <td>1.55</td>\n",
       "      <td>1.55</td>\n",
       "      <td>1.53</td>\n",
       "      <td>1.54</td>\n",
       "      <td>1.59</td>\n",
       "      <td>1.71</td>\n",
       "      <td>1.80</td>\n",
       "      <td>2.11</td>\n",
       "      <td>2.26</td>\n",
       "    </tr>\n",
       "    <tr>\n",
       "      <th>2</th>\n",
       "      <td>1/6/20</td>\n",
       "      <td>1.54</td>\n",
       "      <td>1.54</td>\n",
       "      <td>1.56</td>\n",
       "      <td>1.56</td>\n",
       "      <td>1.54</td>\n",
       "      <td>1.54</td>\n",
       "      <td>1.56</td>\n",
       "      <td>1.61</td>\n",
       "      <td>1.72</td>\n",
       "      <td>1.81</td>\n",
       "      <td>2.13</td>\n",
       "      <td>2.28</td>\n",
       "    </tr>\n",
       "    <tr>\n",
       "      <th>3</th>\n",
       "      <td>1/7/20</td>\n",
       "      <td>1.52</td>\n",
       "      <td>1.53</td>\n",
       "      <td>1.54</td>\n",
       "      <td>1.56</td>\n",
       "      <td>1.53</td>\n",
       "      <td>1.54</td>\n",
       "      <td>1.55</td>\n",
       "      <td>1.62</td>\n",
       "      <td>1.74</td>\n",
       "      <td>1.83</td>\n",
       "      <td>2.16</td>\n",
       "      <td>2.31</td>\n",
       "    </tr>\n",
       "    <tr>\n",
       "      <th>4</th>\n",
       "      <td>1/8/20</td>\n",
       "      <td>1.50</td>\n",
       "      <td>1.53</td>\n",
       "      <td>1.54</td>\n",
       "      <td>1.56</td>\n",
       "      <td>1.55</td>\n",
       "      <td>1.58</td>\n",
       "      <td>1.61</td>\n",
       "      <td>1.67</td>\n",
       "      <td>1.78</td>\n",
       "      <td>1.87</td>\n",
       "      <td>2.21</td>\n",
       "      <td>2.35</td>\n",
       "    </tr>\n",
       "    <tr>\n",
       "      <th>5</th>\n",
       "      <td>1/9/20</td>\n",
       "      <td>1.53</td>\n",
       "      <td>1.55</td>\n",
       "      <td>1.54</td>\n",
       "      <td>1.56</td>\n",
       "      <td>1.54</td>\n",
       "      <td>1.58</td>\n",
       "      <td>1.59</td>\n",
       "      <td>1.65</td>\n",
       "      <td>1.77</td>\n",
       "      <td>1.85</td>\n",
       "      <td>2.17</td>\n",
       "      <td>2.38</td>\n",
       "    </tr>\n",
       "    <tr>\n",
       "      <th>6</th>\n",
       "      <td>1/10/20</td>\n",
       "      <td>1.52</td>\n",
       "      <td>1.55</td>\n",
       "      <td>1.54</td>\n",
       "      <td>1.55</td>\n",
       "      <td>1.53</td>\n",
       "      <td>1.56</td>\n",
       "      <td>1.59</td>\n",
       "      <td>1.63</td>\n",
       "      <td>1.74</td>\n",
       "      <td>1.83</td>\n",
       "      <td>2.14</td>\n",
       "      <td>2.28</td>\n",
       "    </tr>\n",
       "    <tr>\n",
       "      <th>7</th>\n",
       "      <td>1/13/20</td>\n",
       "      <td>1.54</td>\n",
       "      <td>1.56</td>\n",
       "      <td>1.57</td>\n",
       "      <td>1.57</td>\n",
       "      <td>1.53</td>\n",
       "      <td>1.58</td>\n",
       "      <td>1.60</td>\n",
       "      <td>1.65</td>\n",
       "      <td>1.76</td>\n",
       "      <td>1.85</td>\n",
       "      <td>2.16</td>\n",
       "      <td>2.30</td>\n",
       "    </tr>\n",
       "    <tr>\n",
       "      <th>8</th>\n",
       "      <td>1/14/20</td>\n",
       "      <td>1.53</td>\n",
       "      <td>1.56</td>\n",
       "      <td>1.57</td>\n",
       "      <td>1.57</td>\n",
       "      <td>1.53</td>\n",
       "      <td>1.58</td>\n",
       "      <td>1.59</td>\n",
       "      <td>1.63</td>\n",
       "      <td>1.74</td>\n",
       "      <td>1.82</td>\n",
       "      <td>2.12</td>\n",
       "      <td>2.27</td>\n",
       "    </tr>\n",
       "    <tr>\n",
       "      <th>9</th>\n",
       "      <td>1/15/20</td>\n",
       "      <td>1.53</td>\n",
       "      <td>1.56</td>\n",
       "      <td>1.57</td>\n",
       "      <td>1.58</td>\n",
       "      <td>1.54</td>\n",
       "      <td>1.56</td>\n",
       "      <td>1.56</td>\n",
       "      <td>1.60</td>\n",
       "      <td>1.71</td>\n",
       "      <td>1.79</td>\n",
       "      <td>2.09</td>\n",
       "      <td>2.23</td>\n",
       "    </tr>\n",
       "  </tbody>\n",
       "</table>\n",
       "</div>"
      ],
      "text/plain": [
       "      Date  1 Mo  2 Mo  3 Mo  6 Mo  1 Yr  2 Yr  3 Yr  5 Yr  7 Yr  10 Yr  \\\n",
       "0   1/2/20  1.53  1.55  1.54  1.57  1.56  1.58  1.59  1.67  1.79   1.88   \n",
       "1   1/3/20  1.52  1.55  1.52  1.55  1.55  1.53  1.54  1.59  1.71   1.80   \n",
       "2   1/6/20  1.54  1.54  1.56  1.56  1.54  1.54  1.56  1.61  1.72   1.81   \n",
       "3   1/7/20  1.52  1.53  1.54  1.56  1.53  1.54  1.55  1.62  1.74   1.83   \n",
       "4   1/8/20  1.50  1.53  1.54  1.56  1.55  1.58  1.61  1.67  1.78   1.87   \n",
       "5   1/9/20  1.53  1.55  1.54  1.56  1.54  1.58  1.59  1.65  1.77   1.85   \n",
       "6  1/10/20  1.52  1.55  1.54  1.55  1.53  1.56  1.59  1.63  1.74   1.83   \n",
       "7  1/13/20  1.54  1.56  1.57  1.57  1.53  1.58  1.60  1.65  1.76   1.85   \n",
       "8  1/14/20  1.53  1.56  1.57  1.57  1.53  1.58  1.59  1.63  1.74   1.82   \n",
       "9  1/15/20  1.53  1.56  1.57  1.58  1.54  1.56  1.56  1.60  1.71   1.79   \n",
       "\n",
       "   20 Yr  30 Yr  \n",
       "0   2.19   2.33  \n",
       "1   2.11   2.26  \n",
       "2   2.13   2.28  \n",
       "3   2.16   2.31  \n",
       "4   2.21   2.35  \n",
       "5   2.17   2.38  \n",
       "6   2.14   2.28  \n",
       "7   2.16   2.30  \n",
       "8   2.12   2.27  \n",
       "9   2.09   2.23  "
      ]
     },
     "execution_count": 28,
     "metadata": {},
     "output_type": "execute_result"
    }
   ],
   "source": [
    "# Read 2020 Interest CSV file\n",
    "# https://www.treasury.gov/resource-center/data-chart-center/interest-rates/Pages/TextView.aspx?data=yieldYear&year=2020\n",
    "interest2020 = pd.read_csv(\"2020 interest_data.csv\")\n",
    "\n",
    "interest2020.head(10)"
   ]
  },
  {
   "cell_type": "code",
   "execution_count": 29,
   "metadata": {
    "id": "5UwWABjCvqFB"
   },
   "outputs": [
    {
     "data": {
      "text/html": [
       "<div>\n",
       "<style scoped>\n",
       "    .dataframe tbody tr th:only-of-type {\n",
       "        vertical-align: middle;\n",
       "    }\n",
       "\n",
       "    .dataframe tbody tr th {\n",
       "        vertical-align: top;\n",
       "    }\n",
       "\n",
       "    .dataframe thead th {\n",
       "        text-align: right;\n",
       "    }\n",
       "</style>\n",
       "<table border=\"1\" class=\"dataframe\">\n",
       "  <thead>\n",
       "    <tr style=\"text-align: right;\">\n",
       "      <th></th>\n",
       "      <th>Date</th>\n",
       "      <th>30 Yr</th>\n",
       "    </tr>\n",
       "  </thead>\n",
       "  <tbody>\n",
       "    <tr>\n",
       "      <th>0</th>\n",
       "      <td>1/2/20</td>\n",
       "      <td>2.33</td>\n",
       "    </tr>\n",
       "    <tr>\n",
       "      <th>1</th>\n",
       "      <td>1/3/20</td>\n",
       "      <td>2.26</td>\n",
       "    </tr>\n",
       "    <tr>\n",
       "      <th>2</th>\n",
       "      <td>1/6/20</td>\n",
       "      <td>2.28</td>\n",
       "    </tr>\n",
       "    <tr>\n",
       "      <th>3</th>\n",
       "      <td>1/7/20</td>\n",
       "      <td>2.31</td>\n",
       "    </tr>\n",
       "    <tr>\n",
       "      <th>4</th>\n",
       "      <td>1/8/20</td>\n",
       "      <td>2.35</td>\n",
       "    </tr>\n",
       "    <tr>\n",
       "      <th>...</th>\n",
       "      <td>...</td>\n",
       "      <td>...</td>\n",
       "    </tr>\n",
       "    <tr>\n",
       "      <th>246</th>\n",
       "      <td>12/24/20</td>\n",
       "      <td>1.66</td>\n",
       "    </tr>\n",
       "    <tr>\n",
       "      <th>247</th>\n",
       "      <td>12/28/20</td>\n",
       "      <td>1.67</td>\n",
       "    </tr>\n",
       "    <tr>\n",
       "      <th>248</th>\n",
       "      <td>12/29/20</td>\n",
       "      <td>1.67</td>\n",
       "    </tr>\n",
       "    <tr>\n",
       "      <th>249</th>\n",
       "      <td>12/30/20</td>\n",
       "      <td>1.66</td>\n",
       "    </tr>\n",
       "    <tr>\n",
       "      <th>250</th>\n",
       "      <td>12/31/20</td>\n",
       "      <td>1.65</td>\n",
       "    </tr>\n",
       "  </tbody>\n",
       "</table>\n",
       "<p>251 rows × 2 columns</p>\n",
       "</div>"
      ],
      "text/plain": [
       "         Date  30 Yr\n",
       "0      1/2/20   2.33\n",
       "1      1/3/20   2.26\n",
       "2      1/6/20   2.28\n",
       "3      1/7/20   2.31\n",
       "4      1/8/20   2.35\n",
       "..        ...    ...\n",
       "246  12/24/20   1.66\n",
       "247  12/28/20   1.67\n",
       "248  12/29/20   1.67\n",
       "249  12/30/20   1.66\n",
       "250  12/31/20   1.65\n",
       "\n",
       "[251 rows x 2 columns]"
      ]
     },
     "execution_count": 29,
     "metadata": {},
     "output_type": "execute_result"
    }
   ],
   "source": [
    "# Focused on 30 Years of 2020 Interest Rate\n",
    "new_interest2020 = interest2020[['Date','30 Yr']]\n",
    "new_interest2020"
   ]
  },
  {
   "cell_type": "code",
   "execution_count": 30,
   "metadata": {
    "id": "IrazkWiy25j0"
   },
   "outputs": [
    {
     "data": {
      "text/html": [
       "<div>\n",
       "<style scoped>\n",
       "    .dataframe tbody tr th:only-of-type {\n",
       "        vertical-align: middle;\n",
       "    }\n",
       "\n",
       "    .dataframe tbody tr th {\n",
       "        vertical-align: top;\n",
       "    }\n",
       "\n",
       "    .dataframe thead th {\n",
       "        text-align: right;\n",
       "    }\n",
       "</style>\n",
       "<table border=\"1\" class=\"dataframe\">\n",
       "  <thead>\n",
       "    <tr style=\"text-align: right;\">\n",
       "      <th></th>\n",
       "      <th>30 Yr</th>\n",
       "    </tr>\n",
       "  </thead>\n",
       "  <tbody>\n",
       "    <tr>\n",
       "      <th>count</th>\n",
       "      <td>251.000000</td>\n",
       "    </tr>\n",
       "    <tr>\n",
       "      <th>mean</th>\n",
       "      <td>1.556135</td>\n",
       "    </tr>\n",
       "    <tr>\n",
       "      <th>std</th>\n",
       "      <td>0.284045</td>\n",
       "    </tr>\n",
       "    <tr>\n",
       "      <th>min</th>\n",
       "      <td>0.990000</td>\n",
       "    </tr>\n",
       "    <tr>\n",
       "      <th>25%</th>\n",
       "      <td>1.370000</td>\n",
       "    </tr>\n",
       "    <tr>\n",
       "      <th>50%</th>\n",
       "      <td>1.470000</td>\n",
       "    </tr>\n",
       "    <tr>\n",
       "      <th>75%</th>\n",
       "      <td>1.660000</td>\n",
       "    </tr>\n",
       "    <tr>\n",
       "      <th>max</th>\n",
       "      <td>2.380000</td>\n",
       "    </tr>\n",
       "  </tbody>\n",
       "</table>\n",
       "</div>"
      ],
      "text/plain": [
       "            30 Yr\n",
       "count  251.000000\n",
       "mean     1.556135\n",
       "std      0.284045\n",
       "min      0.990000\n",
       "25%      1.370000\n",
       "50%      1.470000\n",
       "75%      1.660000\n",
       "max      2.380000"
      ]
     },
     "execution_count": 30,
     "metadata": {},
     "output_type": "execute_result"
    }
   ],
   "source": [
    "# 5number summary\n",
    "new_interest2020.describe()"
   ]
  },
  {
   "cell_type": "code",
   "execution_count": 31,
   "metadata": {
    "id": "sM9RQ0I1x5G_"
   },
   "outputs": [
    {
     "data": {
      "text/html": [
       "<div>\n",
       "<style scoped>\n",
       "    .dataframe tbody tr th:only-of-type {\n",
       "        vertical-align: middle;\n",
       "    }\n",
       "\n",
       "    .dataframe tbody tr th {\n",
       "        vertical-align: top;\n",
       "    }\n",
       "\n",
       "    .dataframe thead th {\n",
       "        text-align: right;\n",
       "    }\n",
       "</style>\n",
       "<table border=\"1\" class=\"dataframe\">\n",
       "  <thead>\n",
       "    <tr style=\"text-align: right;\">\n",
       "      <th></th>\n",
       "      <th>Date</th>\n",
       "      <th>30 Yr</th>\n",
       "    </tr>\n",
       "  </thead>\n",
       "  <tbody>\n",
       "    <tr>\n",
       "      <th>0</th>\n",
       "      <td>1/2/19</td>\n",
       "      <td>2.97</td>\n",
       "    </tr>\n",
       "    <tr>\n",
       "      <th>1</th>\n",
       "      <td>1/3/19</td>\n",
       "      <td>2.92</td>\n",
       "    </tr>\n",
       "    <tr>\n",
       "      <th>2</th>\n",
       "      <td>1/4/19</td>\n",
       "      <td>2.98</td>\n",
       "    </tr>\n",
       "    <tr>\n",
       "      <th>3</th>\n",
       "      <td>1/7/19</td>\n",
       "      <td>2.99</td>\n",
       "    </tr>\n",
       "    <tr>\n",
       "      <th>4</th>\n",
       "      <td>1/8/19</td>\n",
       "      <td>3.00</td>\n",
       "    </tr>\n",
       "    <tr>\n",
       "      <th>...</th>\n",
       "      <td>...</td>\n",
       "      <td>...</td>\n",
       "    </tr>\n",
       "    <tr>\n",
       "      <th>246</th>\n",
       "      <td>12/24/20</td>\n",
       "      <td>1.66</td>\n",
       "    </tr>\n",
       "    <tr>\n",
       "      <th>247</th>\n",
       "      <td>12/28/20</td>\n",
       "      <td>1.67</td>\n",
       "    </tr>\n",
       "    <tr>\n",
       "      <th>248</th>\n",
       "      <td>12/29/20</td>\n",
       "      <td>1.67</td>\n",
       "    </tr>\n",
       "    <tr>\n",
       "      <th>249</th>\n",
       "      <td>12/30/20</td>\n",
       "      <td>1.66</td>\n",
       "    </tr>\n",
       "    <tr>\n",
       "      <th>250</th>\n",
       "      <td>12/31/20</td>\n",
       "      <td>1.65</td>\n",
       "    </tr>\n",
       "  </tbody>\n",
       "</table>\n",
       "<p>501 rows × 2 columns</p>\n",
       "</div>"
      ],
      "text/plain": [
       "         Date  30 Yr\n",
       "0      1/2/19   2.97\n",
       "1      1/3/19   2.92\n",
       "2      1/4/19   2.98\n",
       "3      1/7/19   2.99\n",
       "4      1/8/19   3.00\n",
       "..        ...    ...\n",
       "246  12/24/20   1.66\n",
       "247  12/28/20   1.67\n",
       "248  12/29/20   1.67\n",
       "249  12/30/20   1.66\n",
       "250  12/31/20   1.65\n",
       "\n",
       "[501 rows x 2 columns]"
      ]
     },
     "execution_count": 31,
     "metadata": {},
     "output_type": "execute_result"
    }
   ],
   "source": [
    "# Concat two of data\n",
    "new_interest = pd.concat([new_interest2019, new_interest2020])\n",
    "new_interest"
   ]
  },
  {
   "cell_type": "code",
   "execution_count": 32,
   "metadata": {
    "id": "lmaAx0tg1KPJ"
   },
   "outputs": [],
   "source": [
    "import datetime\n",
    "#new_interest=new_interest[\"Date\"].apply(lambda x: datetime.datetime.strptime(x, '%m/%d/%Y').strftime('%Y-%B'))\n",
    "new_interest['Date']=pd.to_datetime(new_interest['Date'].astype(str), dayfirst=True)"
   ]
  },
  {
   "cell_type": "code",
   "execution_count": 33,
   "metadata": {
    "id": "iUoy1Jz6vxtZ"
   },
   "outputs": [
    {
     "data": {
      "image/png": "[encoded data removed]",
      "text/plain": [
       "<Figure size 720x288 with 1 Axes>"
      ]
     },
     "metadata": {
      "needs_background": "light"
     },
     "output_type": "display_data"
    }
   ],
   "source": [
    "import matplotlib.pyplot as plot\n",
    "\n",
    "# Bar chart\n",
    "\n",
    "new_interest.plot.bar(x='Date',\n",
    "            rot=0,\n",
    "            color=[(240/255,83/255,101/255), (250/255,188/255,42/255)], # passing normalized RGB colors \n",
    "            figsize=(10,4), # Figsize to make the plot larger\n",
    "            title='Interest Rate', # Adding a title to the top\n",
    "            xlabel=\"Date\", # Adding a label on the xaxis\n",
    "            ylabel=\"30 Years Interest Rate\", # Adding a label on y axis\n",
    "            fontsize='large'); \n"
   ]
  },
  {
   "cell_type": "markdown",
   "metadata": {
    "id": "o0vAD1I8H2nt"
   },
   "source": [
    "The federal reserve interest rate is used for measuring the economy. The change in interest rate can affect\n",
    "both inflation and recession. The interest rate indicates the direction of the economy whether is expanding \n",
    "or contracting. Lower interest rates motivates businesses to borrow funds to invest in expansion such as\n",
    "buying new house, car, investing in equipment for businesses and hiring more people. Higher interest rates \n",
    "restrain such borrowing by consumers and businesses. People do not want to invest or buy assests which\n",
    "helps the expansion of the economy because with the higher interest rate it will be expensive for\n",
    "them to carry on such financial activities.\n",
    "\n",
    "As shown above, we can see that the mean of the federal interest rate went lower in 2020.\n",
    "Also, we can see that on the graph. It went downward in 2020. From this, we can conclude that covid 19\n",
    "impacted the economy to shrink where Fed had to lower the interest rate to save it from going into\n",
    "recession or depression."
   ]
  },
  {
   "cell_type": "markdown",
   "metadata": {
    "id": "d6uiBRz5F1A8"
   },
   "source": [
    "\n",
    "\n",
    "\n",
    "\n",
    "## US COVID "
   ]
  },
  {
   "cell_type": "code",
   "execution_count": 34,
   "metadata": {
    "id": "QlV9F62x74j9"
   },
   "outputs": [
    {
     "data": {
      "text/html": [
       "<div>\n",
       "<style scoped>\n",
       "    .dataframe tbody tr th:only-of-type {\n",
       "        vertical-align: middle;\n",
       "    }\n",
       "\n",
       "    .dataframe tbody tr th {\n",
       "        vertical-align: top;\n",
       "    }\n",
       "\n",
       "    .dataframe thead th {\n",
       "        text-align: right;\n",
       "    }\n",
       "</style>\n",
       "<table border=\"1\" class=\"dataframe\">\n",
       "  <thead>\n",
       "    <tr style=\"text-align: right;\">\n",
       "      <th></th>\n",
       "      <th>iso_code</th>\n",
       "      <th>location</th>\n",
       "      <th>date</th>\n",
       "      <th>total_cases</th>\n",
       "      <th>total_deaths</th>\n",
       "      <th>stringency_index</th>\n",
       "      <th>population</th>\n",
       "      <th>gdp_per_capita</th>\n",
       "      <th>human_development_index</th>\n",
       "      <th>Unnamed: 9</th>\n",
       "      <th>Unnamed: 10</th>\n",
       "      <th>Unnamed: 11</th>\n",
       "      <th>Unnamed: 12</th>\n",
       "      <th>Unnamed: 13</th>\n",
       "    </tr>\n",
       "  </thead>\n",
       "  <tbody>\n",
       "    <tr>\n",
       "      <th>0</th>\n",
       "      <td>AFG</td>\n",
       "      <td>Afghanistan</td>\n",
       "      <td>2019-12-31</td>\n",
       "      <td>0.0</td>\n",
       "      <td>0.0</td>\n",
       "      <td>0.0</td>\n",
       "      <td>38928341</td>\n",
       "      <td>1803.987</td>\n",
       "      <td>0.498</td>\n",
       "      <td>#NUM!</td>\n",
       "      <td>#NUM!</td>\n",
       "      <td>#NUM!</td>\n",
       "      <td>17.477233</td>\n",
       "      <td>7.497754494</td>\n",
       "    </tr>\n",
       "    <tr>\n",
       "      <th>1</th>\n",
       "      <td>AFG</td>\n",
       "      <td>Afghanistan</td>\n",
       "      <td>2020-01-01</td>\n",
       "      <td>0.0</td>\n",
       "      <td>0.0</td>\n",
       "      <td>0.0</td>\n",
       "      <td>38928341</td>\n",
       "      <td>1803.987</td>\n",
       "      <td>0.498</td>\n",
       "      <td>#NUM!</td>\n",
       "      <td>#NUM!</td>\n",
       "      <td>#NUM!</td>\n",
       "      <td>17.477233</td>\n",
       "      <td>7.497754494</td>\n",
       "    </tr>\n",
       "    <tr>\n",
       "      <th>2</th>\n",
       "      <td>AFG</td>\n",
       "      <td>Afghanistan</td>\n",
       "      <td>2020-01-02</td>\n",
       "      <td>0.0</td>\n",
       "      <td>0.0</td>\n",
       "      <td>0.0</td>\n",
       "      <td>38928341</td>\n",
       "      <td>1803.987</td>\n",
       "      <td>0.498</td>\n",
       "      <td>#NUM!</td>\n",
       "      <td>#NUM!</td>\n",
       "      <td>#NUM!</td>\n",
       "      <td>17.477233</td>\n",
       "      <td>7.497754494</td>\n",
       "    </tr>\n",
       "    <tr>\n",
       "      <th>3</th>\n",
       "      <td>AFG</td>\n",
       "      <td>Afghanistan</td>\n",
       "      <td>2020-01-03</td>\n",
       "      <td>0.0</td>\n",
       "      <td>0.0</td>\n",
       "      <td>0.0</td>\n",
       "      <td>38928341</td>\n",
       "      <td>1803.987</td>\n",
       "      <td>0.498</td>\n",
       "      <td>#NUM!</td>\n",
       "      <td>#NUM!</td>\n",
       "      <td>#NUM!</td>\n",
       "      <td>17.477233</td>\n",
       "      <td>7.497754494</td>\n",
       "    </tr>\n",
       "    <tr>\n",
       "      <th>4</th>\n",
       "      <td>AFG</td>\n",
       "      <td>Afghanistan</td>\n",
       "      <td>2020-01-04</td>\n",
       "      <td>0.0</td>\n",
       "      <td>0.0</td>\n",
       "      <td>0.0</td>\n",
       "      <td>38928341</td>\n",
       "      <td>1803.987</td>\n",
       "      <td>0.498</td>\n",
       "      <td>#NUM!</td>\n",
       "      <td>#NUM!</td>\n",
       "      <td>#NUM!</td>\n",
       "      <td>17.477233</td>\n",
       "      <td>7.497754494</td>\n",
       "    </tr>\n",
       "    <tr>\n",
       "      <th>5</th>\n",
       "      <td>AFG</td>\n",
       "      <td>Afghanistan</td>\n",
       "      <td>2020-01-05</td>\n",
       "      <td>0.0</td>\n",
       "      <td>0.0</td>\n",
       "      <td>0.0</td>\n",
       "      <td>38928341</td>\n",
       "      <td>1803.987</td>\n",
       "      <td>0.498</td>\n",
       "      <td>#NUM!</td>\n",
       "      <td>#NUM!</td>\n",
       "      <td>#NUM!</td>\n",
       "      <td>17.477233</td>\n",
       "      <td>7.497754494</td>\n",
       "    </tr>\n",
       "    <tr>\n",
       "      <th>6</th>\n",
       "      <td>AFG</td>\n",
       "      <td>Afghanistan</td>\n",
       "      <td>2020-01-06</td>\n",
       "      <td>0.0</td>\n",
       "      <td>0.0</td>\n",
       "      <td>0.0</td>\n",
       "      <td>38928341</td>\n",
       "      <td>1803.987</td>\n",
       "      <td>0.498</td>\n",
       "      <td>#NUM!</td>\n",
       "      <td>#NUM!</td>\n",
       "      <td>#NUM!</td>\n",
       "      <td>17.477233</td>\n",
       "      <td>7.497754494</td>\n",
       "    </tr>\n",
       "    <tr>\n",
       "      <th>7</th>\n",
       "      <td>AFG</td>\n",
       "      <td>Afghanistan</td>\n",
       "      <td>2020-01-07</td>\n",
       "      <td>0.0</td>\n",
       "      <td>0.0</td>\n",
       "      <td>0.0</td>\n",
       "      <td>38928341</td>\n",
       "      <td>1803.987</td>\n",
       "      <td>0.498</td>\n",
       "      <td>#NUM!</td>\n",
       "      <td>#NUM!</td>\n",
       "      <td>#NUM!</td>\n",
       "      <td>17.477233</td>\n",
       "      <td>7.497754494</td>\n",
       "    </tr>\n",
       "    <tr>\n",
       "      <th>8</th>\n",
       "      <td>AFG</td>\n",
       "      <td>Afghanistan</td>\n",
       "      <td>2020-01-08</td>\n",
       "      <td>0.0</td>\n",
       "      <td>0.0</td>\n",
       "      <td>0.0</td>\n",
       "      <td>38928341</td>\n",
       "      <td>1803.987</td>\n",
       "      <td>0.498</td>\n",
       "      <td>#NUM!</td>\n",
       "      <td>#NUM!</td>\n",
       "      <td>#NUM!</td>\n",
       "      <td>17.477233</td>\n",
       "      <td>7.497754494</td>\n",
       "    </tr>\n",
       "    <tr>\n",
       "      <th>9</th>\n",
       "      <td>AFG</td>\n",
       "      <td>Afghanistan</td>\n",
       "      <td>2020-01-09</td>\n",
       "      <td>0.0</td>\n",
       "      <td>0.0</td>\n",
       "      <td>0.0</td>\n",
       "      <td>38928341</td>\n",
       "      <td>1803.987</td>\n",
       "      <td>0.498</td>\n",
       "      <td>#NUM!</td>\n",
       "      <td>#NUM!</td>\n",
       "      <td>#NUM!</td>\n",
       "      <td>17.477233</td>\n",
       "      <td>7.497754494</td>\n",
       "    </tr>\n",
       "  </tbody>\n",
       "</table>\n",
       "</div>"
      ],
      "text/plain": [
       "  iso_code     location        date  total_cases  total_deaths  \\\n",
       "0      AFG  Afghanistan  2019-12-31          0.0           0.0   \n",
       "1      AFG  Afghanistan  2020-01-01          0.0           0.0   \n",
       "2      AFG  Afghanistan  2020-01-02          0.0           0.0   \n",
       "3      AFG  Afghanistan  2020-01-03          0.0           0.0   \n",
       "4      AFG  Afghanistan  2020-01-04          0.0           0.0   \n",
       "5      AFG  Afghanistan  2020-01-05          0.0           0.0   \n",
       "6      AFG  Afghanistan  2020-01-06          0.0           0.0   \n",
       "7      AFG  Afghanistan  2020-01-07          0.0           0.0   \n",
       "8      AFG  Afghanistan  2020-01-08          0.0           0.0   \n",
       "9      AFG  Afghanistan  2020-01-09          0.0           0.0   \n",
       "\n",
       "   stringency_index  population  gdp_per_capita  human_development_index  \\\n",
       "0               0.0    38928341        1803.987                    0.498   \n",
       "1               0.0    38928341        1803.987                    0.498   \n",
       "2               0.0    38928341        1803.987                    0.498   \n",
       "3               0.0    38928341        1803.987                    0.498   \n",
       "4               0.0    38928341        1803.987                    0.498   \n",
       "5               0.0    38928341        1803.987                    0.498   \n",
       "6               0.0    38928341        1803.987                    0.498   \n",
       "7               0.0    38928341        1803.987                    0.498   \n",
       "8               0.0    38928341        1803.987                    0.498   \n",
       "9               0.0    38928341        1803.987                    0.498   \n",
       "\n",
       "  Unnamed: 9 Unnamed: 10 Unnamed: 11  Unnamed: 12  Unnamed: 13  \n",
       "0      #NUM!       #NUM!       #NUM!    17.477233  7.497754494  \n",
       "1      #NUM!       #NUM!       #NUM!    17.477233  7.497754494  \n",
       "2      #NUM!       #NUM!       #NUM!    17.477233  7.497754494  \n",
       "3      #NUM!       #NUM!       #NUM!    17.477233  7.497754494  \n",
       "4      #NUM!       #NUM!       #NUM!    17.477233  7.497754494  \n",
       "5      #NUM!       #NUM!       #NUM!    17.477233  7.497754494  \n",
       "6      #NUM!       #NUM!       #NUM!    17.477233  7.497754494  \n",
       "7      #NUM!       #NUM!       #NUM!    17.477233  7.497754494  \n",
       "8      #NUM!       #NUM!       #NUM!    17.477233  7.497754494  \n",
       "9      #NUM!       #NUM!       #NUM!    17.477233  7.497754494  "
      ]
     },
     "execution_count": 34,
     "metadata": {},
     "output_type": "execute_result"
    }
   ],
   "source": [
    "# https://www.kaggle.com/shashwatwork/impact-of-covid19-pandemic-on-the-global-economy?select=raw_data.csv\n",
    "covid = pd.read_csv(\"raw_data.csv\")\n",
    "#covid.columns = map(lambda x: str(x).title(), covid.columns)\n",
    "covid.head(10)"
   ]
  },
  {
   "cell_type": "code",
   "execution_count": 35,
   "metadata": {
    "id": "tsvWciwMDPYS"
   },
   "outputs": [
    {
     "data": {
      "text/html": [
       "<div>\n",
       "<style scoped>\n",
       "    .dataframe tbody tr th:only-of-type {\n",
       "        vertical-align: middle;\n",
       "    }\n",
       "\n",
       "    .dataframe tbody tr th {\n",
       "        vertical-align: top;\n",
       "    }\n",
       "\n",
       "    .dataframe thead th {\n",
       "        text-align: right;\n",
       "    }\n",
       "</style>\n",
       "<table border=\"1\" class=\"dataframe\">\n",
       "  <thead>\n",
       "    <tr style=\"text-align: right;\">\n",
       "      <th></th>\n",
       "      <th>iso_code</th>\n",
       "      <th>location</th>\n",
       "      <th>date</th>\n",
       "      <th>total_cases</th>\n",
       "      <th>total_deaths</th>\n",
       "      <th>stringency_index</th>\n",
       "      <th>population</th>\n",
       "      <th>gdp_per_capita</th>\n",
       "      <th>human_development_index</th>\n",
       "      <th>Unnamed: 9</th>\n",
       "      <th>Unnamed: 10</th>\n",
       "      <th>Unnamed: 11</th>\n",
       "      <th>Unnamed: 12</th>\n",
       "      <th>Unnamed: 13</th>\n",
       "    </tr>\n",
       "  </thead>\n",
       "  <tbody>\n",
       "    <tr>\n",
       "      <th>48121</th>\n",
       "      <td>USA</td>\n",
       "      <td>United States</td>\n",
       "      <td>2019-12-31</td>\n",
       "      <td>NaN</td>\n",
       "      <td>NaN</td>\n",
       "      <td>NaN</td>\n",
       "      <td>331002647</td>\n",
       "      <td>54225.446</td>\n",
       "      <td>0.924</td>\n",
       "      <td>#NUM!</td>\n",
       "      <td>#NUM!</td>\n",
       "      <td>#NUM!</td>\n",
       "      <td>19.617637</td>\n",
       "      <td>10.90090556</td>\n",
       "    </tr>\n",
       "    <tr>\n",
       "      <th>48122</th>\n",
       "      <td>USA</td>\n",
       "      <td>United States</td>\n",
       "      <td>2020-01-01</td>\n",
       "      <td>NaN</td>\n",
       "      <td>NaN</td>\n",
       "      <td>0.0</td>\n",
       "      <td>331002647</td>\n",
       "      <td>54225.446</td>\n",
       "      <td>0.924</td>\n",
       "      <td>#NUM!</td>\n",
       "      <td>#NUM!</td>\n",
       "      <td>#NUM!</td>\n",
       "      <td>19.617637</td>\n",
       "      <td>10.90090556</td>\n",
       "    </tr>\n",
       "    <tr>\n",
       "      <th>48123</th>\n",
       "      <td>USA</td>\n",
       "      <td>United States</td>\n",
       "      <td>2020-01-02</td>\n",
       "      <td>NaN</td>\n",
       "      <td>NaN</td>\n",
       "      <td>0.0</td>\n",
       "      <td>331002647</td>\n",
       "      <td>54225.446</td>\n",
       "      <td>0.924</td>\n",
       "      <td>#NUM!</td>\n",
       "      <td>#NUM!</td>\n",
       "      <td>#NUM!</td>\n",
       "      <td>19.617637</td>\n",
       "      <td>10.90090556</td>\n",
       "    </tr>\n",
       "    <tr>\n",
       "      <th>48124</th>\n",
       "      <td>USA</td>\n",
       "      <td>United States</td>\n",
       "      <td>2020-01-03</td>\n",
       "      <td>NaN</td>\n",
       "      <td>NaN</td>\n",
       "      <td>0.0</td>\n",
       "      <td>331002647</td>\n",
       "      <td>54225.446</td>\n",
       "      <td>0.924</td>\n",
       "      <td>#NUM!</td>\n",
       "      <td>#NUM!</td>\n",
       "      <td>#NUM!</td>\n",
       "      <td>19.617637</td>\n",
       "      <td>10.90090556</td>\n",
       "    </tr>\n",
       "    <tr>\n",
       "      <th>48125</th>\n",
       "      <td>USA</td>\n",
       "      <td>United States</td>\n",
       "      <td>2020-01-04</td>\n",
       "      <td>NaN</td>\n",
       "      <td>NaN</td>\n",
       "      <td>0.0</td>\n",
       "      <td>331002647</td>\n",
       "      <td>54225.446</td>\n",
       "      <td>0.924</td>\n",
       "      <td>#NUM!</td>\n",
       "      <td>#NUM!</td>\n",
       "      <td>#NUM!</td>\n",
       "      <td>19.617637</td>\n",
       "      <td>10.90090556</td>\n",
       "    </tr>\n",
       "    <tr>\n",
       "      <th>...</th>\n",
       "      <td>...</td>\n",
       "      <td>...</td>\n",
       "      <td>...</td>\n",
       "      <td>...</td>\n",
       "      <td>...</td>\n",
       "      <td>...</td>\n",
       "      <td>...</td>\n",
       "      <td>...</td>\n",
       "      <td>...</td>\n",
       "      <td>...</td>\n",
       "      <td>...</td>\n",
       "      <td>...</td>\n",
       "      <td>...</td>\n",
       "      <td>...</td>\n",
       "    </tr>\n",
       "    <tr>\n",
       "      <th>48410</th>\n",
       "      <td>USA</td>\n",
       "      <td>United States</td>\n",
       "      <td>2020-10-15</td>\n",
       "      <td>7916100.0</td>\n",
       "      <td>216872.0</td>\n",
       "      <td>NaN</td>\n",
       "      <td>331002647</td>\n",
       "      <td>54225.446</td>\n",
       "      <td>0.924</td>\n",
       "      <td>15.88440922</td>\n",
       "      <td>12.2870626</td>\n",
       "      <td>#NUM!</td>\n",
       "      <td>19.617637</td>\n",
       "      <td>10.90090556</td>\n",
       "    </tr>\n",
       "    <tr>\n",
       "      <th>48411</th>\n",
       "      <td>USA</td>\n",
       "      <td>United States</td>\n",
       "      <td>2020-10-16</td>\n",
       "      <td>7979885.0</td>\n",
       "      <td>217700.0</td>\n",
       "      <td>NaN</td>\n",
       "      <td>331002647</td>\n",
       "      <td>54225.446</td>\n",
       "      <td>0.924</td>\n",
       "      <td>15.89243456</td>\n",
       "      <td>12.29087325</td>\n",
       "      <td>#NUM!</td>\n",
       "      <td>19.617637</td>\n",
       "      <td>10.90090556</td>\n",
       "    </tr>\n",
       "    <tr>\n",
       "      <th>48412</th>\n",
       "      <td>USA</td>\n",
       "      <td>United States</td>\n",
       "      <td>2020-10-17</td>\n",
       "      <td>8050141.0</td>\n",
       "      <td>218599.0</td>\n",
       "      <td>NaN</td>\n",
       "      <td>331002647</td>\n",
       "      <td>54225.446</td>\n",
       "      <td>0.924</td>\n",
       "      <td>15.90120016</td>\n",
       "      <td>12.29499428</td>\n",
       "      <td>#NUM!</td>\n",
       "      <td>19.617637</td>\n",
       "      <td>10.90090556</td>\n",
       "    </tr>\n",
       "    <tr>\n",
       "      <th>48413</th>\n",
       "      <td>USA</td>\n",
       "      <td>United States</td>\n",
       "      <td>2020-10-18</td>\n",
       "      <td>8106752.0</td>\n",
       "      <td>219289.0</td>\n",
       "      <td>NaN</td>\n",
       "      <td>331002647</td>\n",
       "      <td>54225.446</td>\n",
       "      <td>0.924</td>\n",
       "      <td>15.90820785</td>\n",
       "      <td>12.29814577</td>\n",
       "      <td>#NUM!</td>\n",
       "      <td>19.617637</td>\n",
       "      <td>10.90090556</td>\n",
       "    </tr>\n",
       "    <tr>\n",
       "      <th>48414</th>\n",
       "      <td>USA</td>\n",
       "      <td>United States</td>\n",
       "      <td>2020-10-19</td>\n",
       "      <td>8154595.0</td>\n",
       "      <td>219674.0</td>\n",
       "      <td>NaN</td>\n",
       "      <td>331002647</td>\n",
       "      <td>54225.446</td>\n",
       "      <td>0.924</td>\n",
       "      <td>15.91409213</td>\n",
       "      <td>12.29989991</td>\n",
       "      <td>#NUM!</td>\n",
       "      <td>19.617637</td>\n",
       "      <td>10.90090556</td>\n",
       "    </tr>\n",
       "  </tbody>\n",
       "</table>\n",
       "<p>294 rows × 14 columns</p>\n",
       "</div>"
      ],
      "text/plain": [
       "      iso_code       location        date  total_cases  total_deaths  \\\n",
       "48121      USA  United States  2019-12-31          NaN           NaN   \n",
       "48122      USA  United States  2020-01-01          NaN           NaN   \n",
       "48123      USA  United States  2020-01-02          NaN           NaN   \n",
       "48124      USA  United States  2020-01-03          NaN           NaN   \n",
       "48125      USA  United States  2020-01-04          NaN           NaN   \n",
       "...        ...            ...         ...          ...           ...   \n",
       "48410      USA  United States  2020-10-15    7916100.0      216872.0   \n",
       "48411      USA  United States  2020-10-16    7979885.0      217700.0   \n",
       "48412      USA  United States  2020-10-17    8050141.0      218599.0   \n",
       "48413      USA  United States  2020-10-18    8106752.0      219289.0   \n",
       "48414      USA  United States  2020-10-19    8154595.0      219674.0   \n",
       "\n",
       "       stringency_index  population  gdp_per_capita  human_development_index  \\\n",
       "48121               NaN   331002647       54225.446                    0.924   \n",
       "48122               0.0   331002647       54225.446                    0.924   \n",
       "48123               0.0   331002647       54225.446                    0.924   \n",
       "48124               0.0   331002647       54225.446                    0.924   \n",
       "48125               0.0   331002647       54225.446                    0.924   \n",
       "...                 ...         ...             ...                      ...   \n",
       "48410               NaN   331002647       54225.446                    0.924   \n",
       "48411               NaN   331002647       54225.446                    0.924   \n",
       "48412               NaN   331002647       54225.446                    0.924   \n",
       "48413               NaN   331002647       54225.446                    0.924   \n",
       "48414               NaN   331002647       54225.446                    0.924   \n",
       "\n",
       "        Unnamed: 9  Unnamed: 10 Unnamed: 11  Unnamed: 12  Unnamed: 13  \n",
       "48121        #NUM!        #NUM!       #NUM!    19.617637  10.90090556  \n",
       "48122        #NUM!        #NUM!       #NUM!    19.617637  10.90090556  \n",
       "48123        #NUM!        #NUM!       #NUM!    19.617637  10.90090556  \n",
       "48124        #NUM!        #NUM!       #NUM!    19.617637  10.90090556  \n",
       "48125        #NUM!        #NUM!       #NUM!    19.617637  10.90090556  \n",
       "...            ...          ...         ...          ...          ...  \n",
       "48410  15.88440922   12.2870626       #NUM!    19.617637  10.90090556  \n",
       "48411  15.89243456  12.29087325       #NUM!    19.617637  10.90090556  \n",
       "48412  15.90120016  12.29499428       #NUM!    19.617637  10.90090556  \n",
       "48413  15.90820785  12.29814577       #NUM!    19.617637  10.90090556  \n",
       "48414  15.91409213  12.29989991       #NUM!    19.617637  10.90090556  \n",
       "\n",
       "[294 rows x 14 columns]"
      ]
     },
     "execution_count": 35,
     "metadata": {},
     "output_type": "execute_result"
    }
   ],
   "source": [
    "# Focused on US location of COVID cases\n",
    "cov_US = covid[covid['location'] == \"United States\"]\n",
    "cov_US\n"
   ]
  },
  {
   "cell_type": "code",
   "execution_count": 36,
   "metadata": {
    "id": "L_jeW1OQ_Wwy"
   },
   "outputs": [
    {
     "data": {
      "text/html": [
       "<div>\n",
       "<style scoped>\n",
       "    .dataframe tbody tr th:only-of-type {\n",
       "        vertical-align: middle;\n",
       "    }\n",
       "\n",
       "    .dataframe tbody tr th {\n",
       "        vertical-align: top;\n",
       "    }\n",
       "\n",
       "    .dataframe thead th {\n",
       "        text-align: right;\n",
       "    }\n",
       "</style>\n",
       "<table border=\"1\" class=\"dataframe\">\n",
       "  <thead>\n",
       "    <tr style=\"text-align: right;\">\n",
       "      <th></th>\n",
       "      <th>location</th>\n",
       "      <th>date</th>\n",
       "      <th>total_cases</th>\n",
       "    </tr>\n",
       "  </thead>\n",
       "  <tbody>\n",
       "    <tr>\n",
       "      <th>48121</th>\n",
       "      <td>United States</td>\n",
       "      <td>2019-12-31</td>\n",
       "      <td>NaN</td>\n",
       "    </tr>\n",
       "    <tr>\n",
       "      <th>48122</th>\n",
       "      <td>United States</td>\n",
       "      <td>2020-01-01</td>\n",
       "      <td>NaN</td>\n",
       "    </tr>\n",
       "    <tr>\n",
       "      <th>48123</th>\n",
       "      <td>United States</td>\n",
       "      <td>2020-01-02</td>\n",
       "      <td>NaN</td>\n",
       "    </tr>\n",
       "    <tr>\n",
       "      <th>48124</th>\n",
       "      <td>United States</td>\n",
       "      <td>2020-01-03</td>\n",
       "      <td>NaN</td>\n",
       "    </tr>\n",
       "    <tr>\n",
       "      <th>48125</th>\n",
       "      <td>United States</td>\n",
       "      <td>2020-01-04</td>\n",
       "      <td>NaN</td>\n",
       "    </tr>\n",
       "    <tr>\n",
       "      <th>...</th>\n",
       "      <td>...</td>\n",
       "      <td>...</td>\n",
       "      <td>...</td>\n",
       "    </tr>\n",
       "    <tr>\n",
       "      <th>48410</th>\n",
       "      <td>United States</td>\n",
       "      <td>2020-10-15</td>\n",
       "      <td>7916100.0</td>\n",
       "    </tr>\n",
       "    <tr>\n",
       "      <th>48411</th>\n",
       "      <td>United States</td>\n",
       "      <td>2020-10-16</td>\n",
       "      <td>7979885.0</td>\n",
       "    </tr>\n",
       "    <tr>\n",
       "      <th>48412</th>\n",
       "      <td>United States</td>\n",
       "      <td>2020-10-17</td>\n",
       "      <td>8050141.0</td>\n",
       "    </tr>\n",
       "    <tr>\n",
       "      <th>48413</th>\n",
       "      <td>United States</td>\n",
       "      <td>2020-10-18</td>\n",
       "      <td>8106752.0</td>\n",
       "    </tr>\n",
       "    <tr>\n",
       "      <th>48414</th>\n",
       "      <td>United States</td>\n",
       "      <td>2020-10-19</td>\n",
       "      <td>8154595.0</td>\n",
       "    </tr>\n",
       "  </tbody>\n",
       "</table>\n",
       "<p>294 rows × 3 columns</p>\n",
       "</div>"
      ],
      "text/plain": [
       "            location        date  total_cases\n",
       "48121  United States  2019-12-31          NaN\n",
       "48122  United States  2020-01-01          NaN\n",
       "48123  United States  2020-01-02          NaN\n",
       "48124  United States  2020-01-03          NaN\n",
       "48125  United States  2020-01-04          NaN\n",
       "...              ...         ...          ...\n",
       "48410  United States  2020-10-15    7916100.0\n",
       "48411  United States  2020-10-16    7979885.0\n",
       "48412  United States  2020-10-17    8050141.0\n",
       "48413  United States  2020-10-18    8106752.0\n",
       "48414  United States  2020-10-19    8154595.0\n",
       "\n",
       "[294 rows x 3 columns]"
      ]
     },
     "execution_count": 36,
     "metadata": {},
     "output_type": "execute_result"
    }
   ],
   "source": [
    "# Focus on location, date, and total cases\n",
    "covid1=cov_US[['location','date','total_cases']]\n",
    "covid1"
   ]
  },
  {
   "cell_type": "code",
   "execution_count": 37,
   "metadata": {
    "id": "bOrnJK3PABod"
   },
   "outputs": [
    {
     "data": {
      "text/plain": [
       "location        0\n",
       "date            0\n",
       "total_cases    21\n",
       "dtype: int64"
      ]
     },
     "execution_count": 37,
     "metadata": {},
     "output_type": "execute_result"
    }
   ],
   "source": [
    "# Count number of null values\n",
    "covid1.isnull().sum()\n"
   ]
  },
  {
   "cell_type": "code",
   "execution_count": 38,
   "metadata": {
    "id": "abid2LW7Ec7k"
   },
   "outputs": [
    {
     "name": "stderr",
     "output_type": "stream",
     "text": [
      "<ipython-input-38-294e3c7074bb>:2: SettingWithCopyWarning: \n",
      "A value is trying to be set on a copy of a slice from a DataFrame\n",
      "\n",
      "See the caveats in the documentation: https://pandas.pydata.org/pandas-docs/stable/user_guide/indexing.html#returning-a-view-versus-a-copy\n",
      "  covid1.dropna( inplace=True)\n"
     ]
    }
   ],
   "source": [
    "# Remove all null values \n",
    "covid1.dropna( inplace=True)"
   ]
  },
  {
   "cell_type": "code",
   "execution_count": 39,
   "metadata": {
    "id": "IONg2VOVElpT"
   },
   "outputs": [
    {
     "data": {
      "text/html": [
       "<div>\n",
       "<style scoped>\n",
       "    .dataframe tbody tr th:only-of-type {\n",
       "        vertical-align: middle;\n",
       "    }\n",
       "\n",
       "    .dataframe tbody tr th {\n",
       "        vertical-align: top;\n",
       "    }\n",
       "\n",
       "    .dataframe thead th {\n",
       "        text-align: right;\n",
       "    }\n",
       "</style>\n",
       "<table border=\"1\" class=\"dataframe\">\n",
       "  <thead>\n",
       "    <tr style=\"text-align: right;\">\n",
       "      <th></th>\n",
       "      <th>location</th>\n",
       "      <th>date</th>\n",
       "      <th>total_cases</th>\n",
       "    </tr>\n",
       "  </thead>\n",
       "  <tbody>\n",
       "    <tr>\n",
       "      <th>48142</th>\n",
       "      <td>United States</td>\n",
       "      <td>2020-01-21</td>\n",
       "      <td>1.0</td>\n",
       "    </tr>\n",
       "    <tr>\n",
       "      <th>48143</th>\n",
       "      <td>United States</td>\n",
       "      <td>2020-01-22</td>\n",
       "      <td>1.0</td>\n",
       "    </tr>\n",
       "    <tr>\n",
       "      <th>48144</th>\n",
       "      <td>United States</td>\n",
       "      <td>2020-01-23</td>\n",
       "      <td>1.0</td>\n",
       "    </tr>\n",
       "    <tr>\n",
       "      <th>48145</th>\n",
       "      <td>United States</td>\n",
       "      <td>2020-01-24</td>\n",
       "      <td>1.0</td>\n",
       "    </tr>\n",
       "    <tr>\n",
       "      <th>48146</th>\n",
       "      <td>United States</td>\n",
       "      <td>2020-01-25</td>\n",
       "      <td>2.0</td>\n",
       "    </tr>\n",
       "  </tbody>\n",
       "</table>\n",
       "</div>"
      ],
      "text/plain": [
       "            location        date  total_cases\n",
       "48142  United States  2020-01-21          1.0\n",
       "48143  United States  2020-01-22          1.0\n",
       "48144  United States  2020-01-23          1.0\n",
       "48145  United States  2020-01-24          1.0\n",
       "48146  United States  2020-01-25          2.0"
      ]
     },
     "execution_count": 39,
     "metadata": {},
     "output_type": "execute_result"
    }
   ],
   "source": [
    "# Creating a new datframe\n",
    "covid_df = pd.DataFrame(covid1)\n",
    "covid_df.head()"
   ]
  },
  {
   "cell_type": "code",
   "execution_count": 40,
   "metadata": {
    "id": "eM3zdU-bLy9K"
   },
   "outputs": [
    {
     "data": {
      "text/plain": [
       "<bound method NDFrame.tail of             location        date  total_cases\n",
       "48142  United States  2020-01-21          1.0\n",
       "48143  United States  2020-01-22          1.0\n",
       "48144  United States  2020-01-23          1.0\n",
       "48145  United States  2020-01-24          1.0\n",
       "48146  United States  2020-01-25          2.0\n",
       "...              ...         ...          ...\n",
       "48410  United States  2020-10-15    7916100.0\n",
       "48411  United States  2020-10-16    7979885.0\n",
       "48412  United States  2020-10-17    8050141.0\n",
       "48413  United States  2020-10-18    8106752.0\n",
       "48414  United States  2020-10-19    8154595.0\n",
       "\n",
       "[273 rows x 3 columns]>"
      ]
     },
     "execution_count": 40,
     "metadata": {},
     "output_type": "execute_result"
    }
   ],
   "source": [
    "covid_df.tail"
   ]
  },
  {
   "cell_type": "code",
   "execution_count": 41,
   "metadata": {
    "id": "7wR3p-FVGgrc"
   },
   "outputs": [
    {
     "data": {
      "image/png": "[encoded data removed]",
      "text/plain": [
       "<Figure size 432x288 with 1 Axes>"
      ]
     },
     "metadata": {
      "needs_background": "light"
     },
     "output_type": "display_data"
    }
   ],
   "source": [
    "# Graph\n",
    "import matplotlib.pyplot as plt\n",
    "day = covid_df['date']\n",
    "case = covid_df['total_cases']\n",
    "plt.plot(day, case, color='Blue')\n",
    "plt.xlabel('Date')\n",
    "plt.ylabel('Total Cases in the United States')\n",
    "plt.title('U.S, COVID Cases')\n",
    "plt.show()"
   ]
  },
  {
   "cell_type": "markdown",
   "metadata": {},
   "source": [
    "The graph above depicts the total cases in the United States. The graph starts in january and ends in the month of december 2020. The graph shows a huge increase of cases throughout the year. Total cases seeing a huge spike in the month of april. "
   ]
  }
 ],
 "metadata": {
  "colab": {
   "collapsed_sections": [
    "WEMjlfpqYs8n",
    "4vo-qF94Yt_3",
    "A_cS67RRYuNM"
   ],
   "name": "Covid19_Analysis",
   "provenance": [],
   "toc_visible": true
  },
  "kernelspec": {
   "display_name": "Python 3",
   "language": "python",
   "name": "python3"
  },
  "language_info": {
   "codemirror_mode": {
    "name": "ipython",
    "version": 3
   },
   "file_extension": ".py",
   "mimetype": "text/x-python",
   "name": "python",
   "nbconvert_exporter": "python",
   "pygments_lexer": "ipython3",
   "version": "3.8.5"
  }
 },
 "nbformat": 4,
 "nbformat_minor": 1
}
